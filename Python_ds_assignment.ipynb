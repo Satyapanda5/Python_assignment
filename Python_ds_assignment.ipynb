{
 "cells": [
  {
   "cell_type": "code",
   "execution_count": 1,
   "id": "5d646c9f-45a1-43f8-b045-050115674476",
   "metadata": {},
   "outputs": [
    {
     "data": {
      "text/plain": [
       "'SLLIKSWP'"
      ]
     },
     "execution_count": 1,
     "metadata": {},
     "output_type": "execute_result"
    }
   ],
   "source": [
    "#1.Write code to reverse a string\n",
    "s = \"PWSKILLS\"\n",
    "s[::-1]"
   ]
  },
  {
   "cell_type": "code",
   "execution_count": 2,
   "id": "b5c6e70d-fe8f-40dc-9213-427937beb64e",
   "metadata": {},
   "outputs": [
    {
     "name": "stdout",
     "output_type": "stream",
     "text": [
      "number of vowels: 3\n"
     ]
    }
   ],
   "source": [
    "#2. Write a code to count the number of vowels in a string\n",
    "\n",
    "string = 'Hello World'\n",
    "vowels = 'aeiouAEIOU'\n",
    "count = 0\n",
    "for char in string:\n",
    "    if char in vowels:\n",
    "        count +=1\n",
    "print('number of vowels:', count)        "
   ]
  },
  {
   "cell_type": "code",
   "execution_count": 3,
   "id": "85fe239c-54b3-48cd-b928-21c4e0921c87",
   "metadata": {},
   "outputs": [
    {
     "name": "stdout",
     "output_type": "stream",
     "text": [
      "s is not palindrome\n"
     ]
    }
   ],
   "source": [
    "#3.write a code to check if the given code is palindrome or not\n",
    "\n",
    "s = \"Palindrome\"\n",
    "\n",
    "if s == s[::-1]:\n",
    "    print('s is palindrome')\n",
    "else:\n",
    "    print('s is not palindrome')"
   ]
  },
  {
   "cell_type": "code",
   "execution_count": 4,
   "id": "1da126ec-a2f2-445a-bc77-7670660c697c",
   "metadata": {},
   "outputs": [
    {
     "data": {
      "text/plain": [
       "1"
      ]
     },
     "execution_count": 4,
     "metadata": {},
     "output_type": "execute_result"
    }
   ],
   "source": [
    "#5.write a code to find all the occurence of a given substring within another string\n",
    "\n",
    "string = 'Hello welcome to PWSKILLS'\n",
    "string.count('Hello')   "
   ]
  },
  {
   "cell_type": "code",
   "execution_count": 5,
   "id": "dd77fa2d-3b03-4139-b0bb-a2269c118d95",
   "metadata": {},
   "outputs": [
    {
     "name": "stdout",
     "output_type": "stream",
     "text": [
      "s1a7t4y3a4\n"
     ]
    }
   ],
   "source": [
    "#6.Write a code to perform basic string compression using the counts of repeated characters.\n",
    "\n",
    "string = 'saaaaaaattttyyyaaaa'\n",
    "compressed_string = ''\n",
    "count = 1\n",
    "for i in range(1,len(string)):\n",
    "    if string[i] == string[i-1]:\n",
    "        count += 1\n",
    "    else:\n",
    "        compressed_string += string[i-1] + str(count)\n",
    "        count = 1\n",
    "compressed_string += string[-1] + str(count)       \n",
    "print(compressed_string)        "
   ]
  },
  {
   "cell_type": "code",
   "execution_count": 6,
   "id": "8166f277-32c0-4d75-b9e9-283a25d30593",
   "metadata": {},
   "outputs": [
    {
     "name": "stdout",
     "output_type": "stream",
     "text": [
      "string has unique characters\n"
     ]
    }
   ],
   "source": [
    "#7.Write a code to determine if a string has all unique characters.\n",
    "\n",
    "string = 'aeiou'\n",
    "s = set()\n",
    "for char in string:\n",
    "    if char in s:\n",
    "        print('string has duplicate characters.')\n",
    "        break\n",
    "        s.add(char)\n",
    "if char not in s:\n",
    "    print('string has unique characters')"
   ]
  },
  {
   "cell_type": "code",
   "execution_count": 7,
   "id": "59cef39a-c94d-424b-8ecc-db9e1d207606",
   "metadata": {},
   "outputs": [
    {
     "data": {
      "text/plain": [
       "'HELLO WORLD'"
      ]
     },
     "execution_count": 7,
     "metadata": {},
     "output_type": "execute_result"
    }
   ],
   "source": [
    "#8. write a code to convert a given string to uppercase and lower case.\n",
    "s = 'Hello World'\n",
    "s.upper()"
   ]
  },
  {
   "cell_type": "code",
   "execution_count": 8,
   "id": "9b4d9614-3db3-413c-81c4-55476b043d2e",
   "metadata": {},
   "outputs": [
    {
     "data": {
      "text/plain": [
       "'hello world'"
      ]
     },
     "execution_count": 8,
     "metadata": {},
     "output_type": "execute_result"
    }
   ],
   "source": [
    "s.lower()"
   ]
  },
  {
   "cell_type": "code",
   "execution_count": 9,
   "id": "b5ec0890-f0a7-462a-8e6f-7d93ec53215c",
   "metadata": {},
   "outputs": [
    {
     "name": "stdout",
     "output_type": "stream",
     "text": [
      "number of words: 5\n"
     ]
    }
   ],
   "source": [
    "#9. write a code to count the number of words in a string.\n",
    "l = 'Hello Satya How Are You?'\n",
    "words = l.split()\n",
    "print('number of words:',len(words))"
   ]
  },
  {
   "cell_type": "code",
   "execution_count": 10,
   "id": "ff823603-935b-446f-8890-5a638de76572",
   "metadata": {},
   "outputs": [
    {
     "name": "stdout",
     "output_type": "stream",
     "text": [
      "helloworld\n"
     ]
    }
   ],
   "source": [
    "#10. Write a code to concatenate two strings without using the + operator.\n",
    "s1 = 'hello'\n",
    "s2 = 'world'\n",
    "s = f'{s1}{s2}' \n",
    "print(s)"
   ]
  },
  {
   "cell_type": "code",
   "execution_count": 11,
   "id": "5fc70541-a947-4039-b464-e0a2ed2a9273",
   "metadata": {},
   "outputs": [
    {
     "name": "stdout",
     "output_type": "stream",
     "text": [
      "[1, 3, 3, 4, 4, 5]\n"
     ]
    }
   ],
   "source": [
    "#11. Write a code to remove all occurrences of a specific element from a list.\n",
    "\n",
    "l = [1,2,2,2,3,3,4,4,5]\n",
    "remove_element = 2\n",
    "for i in range(len(l)-1,-1,-1):\n",
    "    if l[i] == remove_element:\n",
    "        l.pop(i)\n",
    "print(l)        "
   ]
  },
  {
   "cell_type": "code",
   "execution_count": 12,
   "id": "ce96196b-c0fe-49af-8c24-00e480f108fe",
   "metadata": {},
   "outputs": [
    {
     "name": "stdout",
     "output_type": "stream",
     "text": [
      "second largest num: 8\n"
     ]
    }
   ],
   "source": [
    "#12.  Implement a code to find the second largest number in a given list of integers.\n",
    "num = [6,7,9,5,8]\n",
    "num.sort(reverse = True)\n",
    "second_largest = num[1]\n",
    "print('second largest num:',second_largest)"
   ]
  },
  {
   "cell_type": "code",
   "execution_count": 13,
   "id": "93de6706-5a8e-406c-be34-1052b0e2ee1e",
   "metadata": {},
   "outputs": [
    {
     "name": "stdout",
     "output_type": "stream",
     "text": [
      "{1: 1, 2: 5, 3: 5, 4: 2}\n"
     ]
    }
   ],
   "source": [
    "#13. Create a code to count the occurrences of each element in a list and return a dictionary with elements as key and their counts as values.\n",
    "lis = [1,2,2,2,2,2,3,3,3,3,3,4,4]\n",
    "dic = {}\n",
    "for element in lis:\n",
    "    if element in dic:\n",
    "        dic[element] +=1\n",
    "    else:\n",
    "        dic[element]=1\n",
    "print(dic)        "
   ]
  },
  {
   "cell_type": "code",
   "execution_count": 14,
   "id": "59eda2c0-4348-4abf-acd3-a17981273013",
   "metadata": {},
   "outputs": [
    {
     "data": {
      "text/plain": [
       "[7, 6, 5, 4, 3, 2, 1]"
      ]
     },
     "execution_count": 14,
     "metadata": {},
     "output_type": "execute_result"
    }
   ],
   "source": [
    "#14. Write a code to reverse a list in-place without using inbuilt-in reverse functions.\n",
    "\n",
    "l = [1,2,3,4,5,6,7]\n",
    "l[::-1]"
   ]
  },
  {
   "cell_type": "code",
   "execution_count": 15,
   "id": "86e1d36c-73f1-47aa-8860-21845f413736",
   "metadata": {},
   "outputs": [
    {
     "name": "stdout",
     "output_type": "stream",
     "text": [
      "[1, 2, 3, 4, 5, 6]\n"
     ]
    }
   ],
   "source": [
    "#15.  Implement a code to find and remove duplicates from a list while preserving the original order of elements.\n",
    "l = [1,1,1,1,1,2,2,2,2,2,3,3,4,5,5,5,5,6]\n",
    "c = list(dict.fromkeys(l))\n",
    "print(c)"
   ]
  },
  {
   "cell_type": "code",
   "execution_count": 16,
   "id": "a26432cf-0056-48fe-9d1e-90e6755dd0ed",
   "metadata": {},
   "outputs": [],
   "source": [
    "#16. Create a code to check if a given list is sorted (either in ascending or descending order) or not.\n"
   ]
  },
  {
   "cell_type": "code",
   "execution_count": 17,
   "id": "864abb31-a0e0-4c0c-a7a9-ea911ffd9c37",
   "metadata": {},
   "outputs": [
    {
     "name": "stdout",
     "output_type": "stream",
     "text": [
      "[1, 2, 3, 4, 5, 6, 7, 8, 9, 10]\n"
     ]
    }
   ],
   "source": [
    "#17.Write a code to merge two sorted lists into a single sorted list.\n",
    "l1 = [1,2,3,4,5]\n",
    "l2 = [6,7,8,9,10]\n",
    "merged_list = sorted(l1+l2)\n",
    "print(merged_list)"
   ]
  },
  {
   "cell_type": "code",
   "execution_count": 18,
   "id": "502764ca-eef3-4a43-8fea-e7e81787326f",
   "metadata": {},
   "outputs": [
    {
     "data": {
      "text/plain": [
       "[3, 4]"
      ]
     },
     "execution_count": 18,
     "metadata": {},
     "output_type": "execute_result"
    }
   ],
   "source": [
    "#18.  Implement a code to find the intersection of two given list.\n",
    "\n",
    "l1 = {1,2,3,4,6}\n",
    "l2 = {3,4,5,7,8}\n",
    "intersection = list(l1&l2)\n",
    "intersection"
   ]
  },
  {
   "cell_type": "code",
   "execution_count": 19,
   "id": "a21a00cf-0e32-460a-9d3c-c25736c759a9",
   "metadata": {},
   "outputs": [
    {
     "name": "stdout",
     "output_type": "stream",
     "text": [
      "[1, 2, 3, 4, 5, 6, 7, 8, 9]\n"
     ]
    }
   ],
   "source": [
    "#19.  Create a code to find the union of two lists without duplicates.\n",
    "\n",
    "s1 = {1,1,2,3,4,4,5}\n",
    "s2 = {6,7,7,7,8,9,9}\n",
    "union = list(s1 | s2)\n",
    "print(union)"
   ]
  },
  {
   "cell_type": "code",
   "execution_count": 20,
   "id": "d1ac04f5-a09f-4e2b-bc85-39410e114dfb",
   "metadata": {},
   "outputs": [
    {
     "name": "stdout",
     "output_type": "stream",
     "text": [
      "[2, 3, 4, 10, (1, 2, 3)]\n"
     ]
    }
   ],
   "source": [
    "#20. Write a code to shuffle a given list randomly without using an built-in shuffle functions.\n",
    "s = {(1,2,3),2,3,4,10}\n",
    "shuffle = list(s)\n",
    "print(shuffle)"
   ]
  },
  {
   "cell_type": "code",
   "execution_count": 21,
   "id": "06db055e-52ce-4024-b3e9-a6b0907940c6",
   "metadata": {},
   "outputs": [
    {
     "name": "stdout",
     "output_type": "stream",
     "text": [
      "(2, 3)\n"
     ]
    }
   ],
   "source": [
    "#21. Write a code that takes two tuples as input and returns a new tuple containing elements that are common to both input tuples.\n",
    "\n",
    "t1 = (1,2,3,4,5)\n",
    "t2 = (2,3,6,7,8)\n",
    "s1 = set(t1)\n",
    "s2 = set(t2)\n",
    "s3 = s1 & s2\n",
    "t3 = tuple(s3)\n",
    "print(t3)"
   ]
  },
  {
   "cell_type": "code",
   "execution_count": 22,
   "id": "b6cd07b4-aa6d-428f-9c69-8c26aaeed855",
   "metadata": {},
   "outputs": [
    {
     "name": "stdin",
     "output_type": "stream",
     "text": [
      "Enter the first set of integers, separated by commas:  1,2,3,4\n",
      "Enter the second set of integers, separated by commas:  3,4,5,6\n"
     ]
    },
    {
     "name": "stdout",
     "output_type": "stream",
     "text": [
      "{3, 4}\n"
     ]
    }
   ],
   "source": [
    "#22.Create a code that prompts the user to enter two sets of integers separated by commas. Then, print the intersection of these two sets.\n",
    "s1 = input(\"Enter the first set of integers, separated by commas: \")\n",
    "s2 = input(\"Enter the second set of integers, separated by commas: \")\n",
    "set1 =set(map(int, s1.split(\",\")))\n",
    "set2 = set(map(int, s2.split(\",\")))\n",
    "s3 = set1 & set2\n",
    "print(s3)"
   ]
  },
  {
   "cell_type": "code",
   "execution_count": 23,
   "id": "dbbf4902-dc0e-419d-983d-bb0958b3d1b9",
   "metadata": {},
   "outputs": [
    {
     "name": "stdin",
     "output_type": "stream",
     "text": [
      "enter first tuple: 1,2,3,4\n",
      "enter second tuple: 5,6,7,8\n"
     ]
    },
    {
     "name": "stdout",
     "output_type": "stream",
     "text": [
      "('1,2,3,4', '5,6,7,8')\n"
     ]
    }
   ],
   "source": [
    "#23.Write a code to concatenate two tuples. The function should take two tuples as input and return a new tuple containing elements from both input tuples.\n",
    "t1 = tuple(input('enter first tuple:').split())\n",
    "t2 = tuple(input('enter second tuple:').split())\n",
    "t3 = t1 + t2\n",
    "print(t3)"
   ]
  },
  {
   "cell_type": "code",
   "execution_count": 24,
   "id": "8e4d032f-e73c-4085-aeaf-45634785f49f",
   "metadata": {},
   "outputs": [
    {
     "name": "stdin",
     "output_type": "stream",
     "text": [
      "enter first string a,b,c,d\n",
      "enter second string e,a,f,g\n"
     ]
    },
    {
     "name": "stdout",
     "output_type": "stream",
     "text": [
      "{'a,b,c,d'}\n"
     ]
    }
   ],
   "source": [
    "#24. Develop a code that prompts the user to input two sets of strings. Then print the elements that are present in the first set but not in the second set.\n",
    "s1 = set(input(\"enter first string\").split())\n",
    "s2 = set(input(\"enter second string\").split())\n",
    "s3 = s1 - s2\n",
    "print(s3)"
   ]
  },
  {
   "cell_type": "code",
   "execution_count": 25,
   "id": "57847d92-9ba6-4fd2-aef6-60fab6615acf",
   "metadata": {},
   "outputs": [],
   "source": [
    "#25.Create a code that takes a tuple and two integers as input. The function should return a new tuple containing elements from the original tuple within the specified range of indices."
   ]
  },
  {
   "cell_type": "code",
   "execution_count": 26,
   "id": "43c6720f-2eca-487b-8334-c76cad520021",
   "metadata": {},
   "outputs": [
    {
     "name": "stdin",
     "output_type": "stream",
     "text": [
      "enter characters a,b,c,d\n",
      "enter characters b,c,e,f\n"
     ]
    },
    {
     "name": "stdout",
     "output_type": "stream",
     "text": [
      "{'b,c,e,f', 'a,b,c,d'}\n"
     ]
    }
   ],
   "source": [
    "#26. Write a code that prompts the user to input two sets of characters. Then print the union of these two sets.\n",
    "\n",
    "s1 = set(input('enter characters').split())\n",
    "s2 = set(input('enter characters').split())\n",
    "s3 = s1 | s2\n",
    "print(s3)"
   ]
  },
  {
   "cell_type": "code",
   "execution_count": 28,
   "id": "14327db8-7ff5-4b3b-8436-ff7dfb0a5610",
   "metadata": {},
   "outputs": [
    {
     "name": "stdin",
     "output_type": "stream",
     "text": [
      "enter numbers separated by spaces: 1 2 6 7 8\n"
     ]
    },
    {
     "name": "stdout",
     "output_type": "stream",
     "text": [
      "max value: 8\n",
      "min value: 1\n"
     ]
    }
   ],
   "source": [
    "#27.Develop a code that takes a tuple of integers as input. The function should return the maximum and minimum values from the tuple using tuple unpacking.\n",
    "\n",
    "numbers = tuple(int(num) for num in input(\"enter numbers separated by spaces:\" ).split())\n",
    "max_value = min_value = numbers[0]\n",
    "for num in numbers[1:]:\n",
    "    max_value = max(max_value,num)\n",
    "    min_value = min(min_value,num)\n",
    "print('max value:',max_value)\n",
    "print('min value:',min_value)"
   ]
  },
  {
   "cell_type": "code",
   "execution_count": 29,
   "id": "f6a592ed-d637-4d82-bcbb-360608d426d6",
   "metadata": {},
   "outputs": [
    {
     "name": "stdout",
     "output_type": "stream",
     "text": [
      "{1, 2, 4, 5, 6, 7, 8, 9}\n",
      "{8, 7}\n",
      "{1, 2, 4}\n"
     ]
    }
   ],
   "source": [
    "#28.Create a code that defines two sets of integers. Then print the union intersection and difference of these two sets.\n",
    "\n",
    "s1 = {1,4,2,7,8}\n",
    "s2 = {7,8,5,6,9}\n",
    "s3 = s1|s2\n",
    "s4 = s1&s2\n",
    "s5 = s1-s2\n",
    "print(s3)\n",
    "print(s4)\n",
    "print(s5)"
   ]
  },
  {
   "cell_type": "code",
   "execution_count": 30,
   "id": "8ab63cf8-f4ee-47c1-a37a-63eb55f3262c",
   "metadata": {},
   "outputs": [],
   "source": [
    "#29.Write a code that takes a tuple and an element as input. The function should return the count of occurrences of the given element in the tuple.\n"
   ]
  },
  {
   "cell_type": "code",
   "execution_count": 32,
   "id": "70fb5c93-393b-430e-8c59-26efdb704014",
   "metadata": {},
   "outputs": [
    {
     "name": "stdin",
     "output_type": "stream",
     "text": [
      "enter first string: abcdef\n",
      "enter second string: efghij\n"
     ]
    },
    {
     "name": "stdout",
     "output_type": "stream",
     "text": [
      "{'g', 'h', 'b', 'c', 'i', 'a', 'j', 'd'}\n"
     ]
    }
   ],
   "source": [
    "#30.Develop a code that prompts the user to input two sets of strings. Then print the symmetric difference of these two sets.\n",
    "str1 = input('enter first string:')\n",
    "str2 = input('enter second string:')\n",
    "set1 = set(str1)\n",
    "set2 = set(str2)\n",
    "s = set1 ^ set2\n",
    "print(s)"
   ]
  },
  {
   "cell_type": "code",
   "execution_count": 33,
   "id": "f39e78eb-1c3c-44a4-bcf9-6ffd4dc6b24f",
   "metadata": {},
   "outputs": [
    {
     "name": "stdin",
     "output_type": "stream",
     "text": [
      "enter list of words separated by spaces:  a b b b c d a c\n"
     ]
    },
    {
     "name": "stdout",
     "output_type": "stream",
     "text": [
      "{'a': 2, ' ': 7, 'b': 3, 'c': 2, 'd': 1}\n"
     ]
    }
   ],
   "source": [
    "#31.Write a code that takes a list of words as input and returns a dictionary where the keys are unique words and the values are the frequencies of those words in the input list.\n",
    "words = list(input(\"enter list of words separated by spaces: \"))\n",
    "dic = {}\n",
    "for word in words:\n",
    "    if word in dic:\n",
    "        dic[word] += 1\n",
    "    else:\n",
    "        dic[word] = 1\n",
    "print(dic)        "
   ]
  },
  {
   "cell_type": "code",
   "execution_count": 36,
   "id": "6e3fe94a-8fa5-478e-9909-749073f1fcc8",
   "metadata": {},
   "outputs": [],
   "source": [
    "#32.Write a code that takes two dictionaries as input and merges them into a single dictionary. If there are common keys the values should be added together.\n"
   ]
  },
  {
   "cell_type": "code",
   "execution_count": 37,
   "id": "3fd501f4-b2cd-4171-bcd9-54a3d1c98c1f",
   "metadata": {},
   "outputs": [],
   "source": [
    "#33.Write a code to access a value in a nested dictionary. The function should take the dictionary and a list of keys as input and return the corresponding value. If any of the keys do not exist in the dictionary the function should return None."
   ]
  },
  {
   "cell_type": "code",
   "execution_count": 38,
   "id": "fa34e7d6-c73a-4ffe-86ff-c7bf7ee04042",
   "metadata": {},
   "outputs": [],
   "source": [
    "#34"
   ]
  },
  {
   "cell_type": "code",
   "execution_count": 39,
   "id": "4e43b14e-0296-4418-b5f7-e831d447c24f",
   "metadata": {},
   "outputs": [],
   "source": [
    "#35."
   ]
  }
 ],
 "metadata": {
  "kernelspec": {
   "display_name": "Python 3 (ipykernel)",
   "language": "python",
   "name": "python3"
  },
  "language_info": {
   "codemirror_mode": {
    "name": "ipython",
    "version": 3
   },
   "file_extension": ".py",
   "mimetype": "text/x-python",
   "name": "python",
   "nbconvert_exporter": "python",
   "pygments_lexer": "ipython3",
   "version": "3.10.8"
  }
 },
 "nbformat": 4,
 "nbformat_minor": 5
}
