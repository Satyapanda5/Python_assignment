{
 "cells": [
  {
   "cell_type": "code",
   "execution_count": 1,
   "id": "74eeb80a-12ee-4d3b-9e43-7bc1077bcc4f",
   "metadata": {},
   "outputs": [],
   "source": [
    "import numpy as np\n",
    "import pandas as pd\n",
    "import seaborn as sns"
   ]
  },
  {
   "cell_type": "code",
   "execution_count": 2,
   "id": "e00cd659-3579-4afa-b1ca-6e4f330440f9",
   "metadata": {},
   "outputs": [
    {
     "name": "stdout",
     "output_type": "stream",
     "text": [
      "[[1 2]\n",
      " [3 4]\n",
      " [7 8]]\n"
     ]
    }
   ],
   "source": [
    "#19.\n",
    "\n",
    "arr1 = np.array([[1,2],[3,4]])\n",
    "arr2 = np.array([7,8])\n",
    "arr3 = np.concatenate((arr1,arr2.reshape(1,2)),axis =0)\n",
    "print(arr3)"
   ]
  },
  {
   "cell_type": "code",
   "execution_count": 3,
   "id": "a22c05f6-5a42-4b1b-ae90-1aa31de2403d",
   "metadata": {},
   "outputs": [
    {
     "data": {
      "text/plain": [
       "array([ 2,  4,  6,  8, 10])"
      ]
     },
     "execution_count": 3,
     "metadata": {},
     "output_type": "execute_result"
    }
   ],
   "source": [
    "#21.\n",
    "\n",
    "def integer_array(start,end,step):\n",
    "    return np.arange(start,end+1,step)\n",
    "\n",
    "arr = integer_array(2,10,2)\n",
    "arr"
   ]
  },
  {
   "cell_type": "code",
   "execution_count": 4,
   "id": "458fec8c-030a-474c-bcf1-336cef17c655",
   "metadata": {},
   "outputs": [
    {
     "data": {
      "text/plain": [
       "array([0.        , 0.11111111, 0.22222222, 0.33333333, 0.44444444,\n",
       "       0.55555556, 0.66666667, 0.77777778, 0.88888889, 1.        ])"
      ]
     },
     "execution_count": 4,
     "metadata": {},
     "output_type": "execute_result"
    }
   ],
   "source": [
    "#22.\n",
    "\n",
    "def equally_spaced_array(start,end,num):\n",
    "    return np.linspace(start,end,num)\n",
    "\n",
    "arr = equally_spaced_array(0,1,10)\n",
    "arr"
   ]
  },
  {
   "cell_type": "code",
   "execution_count": 5,
   "id": "8ee1bcf2-86a7-4cae-a2a3-bdc49f0e3854",
   "metadata": {},
   "outputs": [
    {
     "data": {
      "text/plain": [
       "array([   1.        ,    5.62341325,   31.6227766 ,  177.827941  ,\n",
       "       1000.        ])"
      ]
     },
     "execution_count": 5,
     "metadata": {},
     "output_type": "execute_result"
    }
   ],
   "source": [
    "#23.\n",
    "\n",
    "def log_spaced(start, end, num):\n",
    "    return np.logspace(np.log10(start),np.log10(end),num)\n",
    "\n",
    "arr = log_spaced(1,1000,5)\n",
    "arr"
   ]
  },
  {
   "cell_type": "code",
   "execution_count": 6,
   "id": "ddd1ee43-435d-4d62-ae22-304d18a932a9",
   "metadata": {},
   "outputs": [
    {
     "data": {
      "text/html": [
       "<div>\n",
       "<style scoped>\n",
       "    .dataframe tbody tr th:only-of-type {\n",
       "        vertical-align: middle;\n",
       "    }\n",
       "\n",
       "    .dataframe tbody tr th {\n",
       "        vertical-align: top;\n",
       "    }\n",
       "\n",
       "    .dataframe thead th {\n",
       "        text-align: right;\n",
       "    }\n",
       "</style>\n",
       "<table border=\"1\" class=\"dataframe\">\n",
       "  <thead>\n",
       "    <tr style=\"text-align: right;\">\n",
       "      <th></th>\n",
       "      <th>0</th>\n",
       "      <th>1</th>\n",
       "      <th>2</th>\n",
       "    </tr>\n",
       "  </thead>\n",
       "  <tbody>\n",
       "    <tr>\n",
       "      <th>0</th>\n",
       "      <td>38</td>\n",
       "      <td>38</td>\n",
       "      <td>46</td>\n",
       "    </tr>\n",
       "    <tr>\n",
       "      <th>1</th>\n",
       "      <td>46</td>\n",
       "      <td>13</td>\n",
       "      <td>24</td>\n",
       "    </tr>\n",
       "    <tr>\n",
       "      <th>2</th>\n",
       "      <td>3</td>\n",
       "      <td>54</td>\n",
       "      <td>18</td>\n",
       "    </tr>\n",
       "    <tr>\n",
       "      <th>3</th>\n",
       "      <td>47</td>\n",
       "      <td>4</td>\n",
       "      <td>42</td>\n",
       "    </tr>\n",
       "    <tr>\n",
       "      <th>4</th>\n",
       "      <td>8</td>\n",
       "      <td>66</td>\n",
       "      <td>50</td>\n",
       "    </tr>\n",
       "  </tbody>\n",
       "</table>\n",
       "</div>"
      ],
      "text/plain": [
       "    0   1   2\n",
       "0  38  38  46\n",
       "1  46  13  24\n",
       "2   3  54  18\n",
       "3  47   4  42\n",
       "4   8  66  50"
      ]
     },
     "execution_count": 6,
     "metadata": {},
     "output_type": "execute_result"
    }
   ],
   "source": [
    "#24.\n",
    "\n",
    "np.random.seed(30)\n",
    "data = np.random.randint(1,100,(5,3))\n",
    "df = pd.DataFrame(data)\n",
    "df"
   ]
  },
  {
   "cell_type": "code",
   "execution_count": 7,
   "id": "08e8994e-6c26-4d44-a8af-ba41e0d435c3",
   "metadata": {},
   "outputs": [
    {
     "data": {
      "text/plain": [
       "30"
      ]
     },
     "execution_count": 7,
     "metadata": {},
     "output_type": "execute_result"
    }
   ],
   "source": [
    "#26.\n",
    "\n",
    "arr = np.array([10, 20, 30, 40, 50])\n",
    "arr[2]"
   ]
  },
  {
   "cell_type": "code",
   "execution_count": 8,
   "id": "bc2d1ee4-d4f9-44ef-bbd9-d6c16a66215b",
   "metadata": {},
   "outputs": [
    {
     "data": {
      "text/plain": [
       "6"
      ]
     },
     "execution_count": 8,
     "metadata": {},
     "output_type": "execute_result"
    }
   ],
   "source": [
    "#27.\n",
    "\n",
    "arr_2d = np.array([[1, 2, 3],\n",
    "                   [4, 5, 6],\n",
    "                   [7, 8, 9]])\n",
    "arr_2d[1,2]"
   ]
  },
  {
   "cell_type": "code",
   "execution_count": 9,
   "id": "5a13f9cf-2e0f-4b82-bae5-d1aaca2ee49e",
   "metadata": {},
   "outputs": [
    {
     "name": "stdout",
     "output_type": "stream",
     "text": [
      "[False  True False  True False  True]\n"
     ]
    }
   ],
   "source": [
    "#28.\n",
    "\n",
    "arr = np.array([3, 8, 2, 10, 5, 7])\n",
    "s = arr > 5\n",
    "print(s)"
   ]
  },
  {
   "cell_type": "code",
   "execution_count": 10,
   "id": "4c68441e-3966-4d75-b90a-3229b4eaecaa",
   "metadata": {},
   "outputs": [
    {
     "name": "stdout",
     "output_type": "stream",
     "text": [
      "[3 4 5 6]\n"
     ]
    }
   ],
   "source": [
    "#29.\n",
    "\n",
    "arr = np.array([1, 2, 3, 4, 5, 6, 7, 8, 9])\n",
    "r = arr[2:6]\n",
    "print(r)"
   ]
  },
  {
   "cell_type": "code",
   "execution_count": 11,
   "id": "aefe047c-febd-429c-90e5-55ed4918b336",
   "metadata": {},
   "outputs": [
    {
     "name": "stdout",
     "output_type": "stream",
     "text": [
      "[[2 3]\n",
      " [5 6]]\n"
     ]
    }
   ],
   "source": [
    "#30.\n",
    "\n",
    "arr_2d = np.array([[1, 2, 3],\n",
    "                   [4, 5, 6],\n",
    "                   [7, 8, 9]])\n",
    "p = arr_2d[0:2,1:]\n",
    "print(p)"
   ]
  },
  {
   "cell_type": "code",
   "execution_count": 12,
   "id": "5611813a-e3bb-406f-b2ca-d3d2c6d7a8b6",
   "metadata": {},
   "outputs": [
    {
     "name": "stdout",
     "output_type": "stream",
     "text": [
      "[6 7 5 8 9 4]\n"
     ]
    }
   ],
   "source": [
    "#32.\n",
    "\n",
    "def greater_array(arr,threshold):\n",
    "    boolean = arr > threshold\n",
    "    filtered = arr[boolean]\n",
    "    return filtered\n",
    "\n",
    "arr = np.array([1,3,6,7,5,8,9,4])\n",
    "threshold = 3\n",
    "filtered = greater_array(arr,threshold)\n",
    "print(filtered)"
   ]
  },
  {
   "cell_type": "code",
   "execution_count": 13,
   "id": "8c31c51c-7883-470c-8064-6fc6cbba36cc",
   "metadata": {},
   "outputs": [
    {
     "name": "stdout",
     "output_type": "stream",
     "text": [
      "[ 4  6  8 10]\n"
     ]
    }
   ],
   "source": [
    "#34.\n",
    "\n",
    "def filtered_elements(arr, condtn1,condtn2):\n",
    "    m1 = condtn1(arr)\n",
    "    m2 = condtn2(arr)\n",
    "    logic = m1 & m2\n",
    "    filter_array = arr[logic]\n",
    "    return filter_array\n",
    "\n",
    "\n",
    "arr = np.array([1,2,3,4,5,6,7,8,10])\n",
    "\n",
    "def condtn1(x):\n",
    "    return x > 2\n",
    "def condtn2(x):\n",
    "    return x % 2 == 0\n",
    "\n",
    "filter_array = filtered_elements(arr,condtn1,condtn2)\n",
    "print(filter_array)"
   ]
  },
  {
   "cell_type": "code",
   "execution_count": 14,
   "id": "7b3070c6-227a-4fac-9fc6-e27579f6a813",
   "metadata": {},
   "outputs": [
    {
     "name": "stdout",
     "output_type": "stream",
     "text": [
      "[3 6 8]\n"
     ]
    }
   ],
   "source": [
    "#35.\n",
    "\n",
    "def extract_element(arr,rows,cols):\n",
    "    return arr[rows,cols]\n",
    "\n",
    "arr = np.array([[1,2,3],[4,5,6],[7,8,9]])\n",
    "rows = np.array([0,1,2])\n",
    "cols = np.array([2,2,1])\n",
    "arr1 = extract_element(arr,rows,cols)\n",
    "print(arr1)    "
   ]
  },
  {
   "cell_type": "code",
   "execution_count": 15,
   "id": "2be7159c-5ab8-41cb-873c-d0839221ca5f",
   "metadata": {},
   "outputs": [
    {
     "data": {
      "text/plain": [
       "array([[5., 5., 5.],\n",
       "       [5., 5., 5.],\n",
       "       [5., 5., 5.]])"
      ]
     },
     "execution_count": 15,
     "metadata": {},
     "output_type": "execute_result"
    }
   ],
   "source": [
    "#36.\n",
    "\n",
    "arr = np.zeros((3,3))\n",
    "arr + 5"
   ]
  },
  {
   "cell_type": "code",
   "execution_count": 16,
   "id": "73848fb5-8f48-45c6-a17f-1284f8d5a860",
   "metadata": {},
   "outputs": [
    {
     "name": "stdout",
     "output_type": "stream",
     "text": [
      "[[ 6  6  2  2]\n",
      " [ 6  2  2  6]\n",
      " [12 16 12  8]]\n"
     ]
    }
   ],
   "source": [
    "#37.\n",
    "\n",
    "arr1 = np.random.randint(1,5,(1,3))\n",
    "arr2 = np.random.randint(1,5,(3,4))\n",
    "arr3 = np.reshape(arr1,(3,))\n",
    "print(arr3[:,np.newaxis] * arr2)"
   ]
  },
  {
   "cell_type": "code",
   "execution_count": 17,
   "id": "e62b1018-b378-43f7-b068-b380cc112473",
   "metadata": {},
   "outputs": [
    {
     "name": "stdout",
     "output_type": "stream",
     "text": [
      "[[5 2 3]\n",
      " [6 5 7]\n",
      " [5 6 7]\n",
      " [8 7 6]]\n"
     ]
    }
   ],
   "source": [
    "#38.\n",
    "\n",
    "arr1 = np.random.randint(1,5,(1,4))\n",
    "arr2 = np.random.randint(1,5,(4,3))\n",
    "\n",
    "\n",
    "arr3 = np.reshape(arr1,(4,))\n",
    "\n",
    "print(arr3[:,np.newaxis] + arr2)"
   ]
  },
  {
   "cell_type": "code",
   "execution_count": 18,
   "id": "0ee30f34-0e84-4cd0-b335-948dd68a9674",
   "metadata": {},
   "outputs": [
    {
     "name": "stdout",
     "output_type": "stream",
     "text": [
      "[[[3 2 3]]\n",
      "\n",
      " [[6 5 6]]\n",
      "\n",
      " [[6 5 6]]]\n"
     ]
    }
   ],
   "source": [
    "#39.\n",
    "\n",
    "arr1 = np.random.randint(1,5,(3,1))\n",
    "arr2 = np.random.randint(1,5,(1,3))\n",
    "\n",
    "\n",
    "arr3 = np.reshape(arr2,(3,))\n",
    "\n",
    "print(arr3 + arr1[:,np.newaxis])"
   ]
  },
  {
   "cell_type": "code",
   "execution_count": 19,
   "id": "0947f28c-00a9-40a4-8077-651fb08b3997",
   "metadata": {},
   "outputs": [
    {
     "name": "stdout",
     "output_type": "stream",
     "text": [
      "[[[16  8 16]\n",
      "  [ 8  8  4]]\n",
      "\n",
      " [[ 4  2  4]\n",
      "  [ 6  6  3]]]\n"
     ]
    }
   ],
   "source": [
    "#40.\n",
    "\n",
    "arr1 = np.random.randint(1,5,(2,3))\n",
    "arr2 = np.random.randint(1,5,(2,2))\n",
    "\n",
    "print(arr1 * arr2[:, :, np.newaxis])"
   ]
  },
  {
   "cell_type": "code",
   "execution_count": 20,
   "id": "18bd144f-2287-4e25-a962-067f60e4d230",
   "metadata": {},
   "outputs": [
    {
     "data": {
      "text/plain": [
       "array([2.5, 3.5, 4.5])"
      ]
     },
     "execution_count": 20,
     "metadata": {},
     "output_type": "execute_result"
    }
   ],
   "source": [
    "#41.\n",
    "\n",
    "arr = np.array([[1, 2, 3], [4, 5, 6]])\n",
    "np.mean(arr,axis=0)"
   ]
  },
  {
   "cell_type": "code",
   "execution_count": 21,
   "id": "066e2cc7-66bb-4233-95bb-f7a52f015215",
   "metadata": {},
   "outputs": [
    {
     "data": {
      "text/plain": [
       "array([3, 6])"
      ]
     },
     "execution_count": 21,
     "metadata": {},
     "output_type": "execute_result"
    }
   ],
   "source": [
    "#42.\n",
    "\n",
    "arr = np.array([[1, 2, 3], [4, 5, 6]])\n",
    "arr.max(axis=1)"
   ]
  },
  {
   "cell_type": "code",
   "execution_count": 22,
   "id": "1902e98a-58df-4362-814b-48f7c676faad",
   "metadata": {},
   "outputs": [
    {
     "data": {
      "text/plain": [
       "array([1, 1, 1])"
      ]
     },
     "execution_count": 22,
     "metadata": {},
     "output_type": "execute_result"
    }
   ],
   "source": [
    "#43.\n",
    "\n",
    "arr = np.array([[1, 2, 3], [4, 5, 6]])\n",
    "np.argmax(arr,axis=0)"
   ]
  },
  {
   "cell_type": "code",
   "execution_count": 23,
   "id": "d39fdb02-1f69-48f9-8206-0e020d1fcfd1",
   "metadata": {},
   "outputs": [
    {
     "name": "stdout",
     "output_type": "stream",
     "text": [
      "not all elements in each column are even\n"
     ]
    }
   ],
   "source": [
    "#45.\n",
    "\n",
    "\n",
    "arr = np.array([[2, 4, 6], [3, 5, 7]])\n",
    "\n",
    "even = np.all(arr%2==0,axis=0)\n",
    "if np.all(even):\n",
    "    print('all element in each column are even')\n",
    "else:\n",
    "    print(\"not all elements in each column are even\")"
   ]
  },
  {
   "cell_type": "code",
   "execution_count": 24,
   "id": "c7e0ca91-1cda-4133-b574-34649255fa77",
   "metadata": {},
   "outputs": [
    {
     "data": {
      "text/plain": [
       "array([[1, 2, 3],\n",
       "       [4, 5, 6]])"
      ]
     },
     "execution_count": 24,
     "metadata": {},
     "output_type": "execute_result"
    }
   ],
   "source": [
    "#46.\n",
    "\n",
    "original_array = np.array([1, 2, 3, 4, 5, 6])\n",
    "reshaped = np.reshape(original_array,(2,3))\n",
    "reshaped"
   ]
  },
  {
   "cell_type": "code",
   "execution_count": 25,
   "id": "929f6a74-1a74-40c8-a165-7bf874954f19",
   "metadata": {},
   "outputs": [
    {
     "data": {
      "text/plain": [
       "array([1, 2, 3, 4, 5, 6])"
      ]
     },
     "execution_count": 25,
     "metadata": {},
     "output_type": "execute_result"
    }
   ],
   "source": [
    "#47.\n",
    "def flatten_mat(mat):\n",
    "    return mat.flatten()\n",
    "\n",
    "input_matrix = np.array([[1, 2, 3], [4, 5, 6]])\n",
    "arr = flatten_mat(input_matrix)\n",
    "arr"
   ]
  },
  {
   "cell_type": "code",
   "execution_count": 26,
   "id": "66f99ca4-0096-402a-9307-eeba93056232",
   "metadata": {},
   "outputs": [
    {
     "name": "stdout",
     "output_type": "stream",
     "text": [
      "[[1 2]\n",
      " [3 4]\n",
      " [5 6]\n",
      " [7 8]]\n",
      "[[1 2 5 6]\n",
      " [3 4 7 8]]\n"
     ]
    }
   ],
   "source": [
    "#48.\n",
    "\n",
    "def concatenate_arr(arr1,arr2,axis=0):\n",
    "    return np.concatenate((arr1,arr2),axis=axis)\n",
    "\n",
    "array1 = np.array([[1, 2], [3, 4]])\n",
    "array2 = np.array([[5, 6], [7, 8]])\n",
    "r1 = concatenate_arr(array1,array2,axis = 0)\n",
    "r2 = concatenate_arr(array1,array2,axis = 1)\n",
    "\n",
    "print(r1)\n",
    "print(r2)"
   ]
  },
  {
   "cell_type": "code",
   "execution_count": 27,
   "id": "d4f6e4de-7df2-499f-9f38-2a3ef593a07b",
   "metadata": {},
   "outputs": [
    {
     "name": "stdout",
     "output_type": "stream",
     "text": [
      "7.15681568885132\n",
      "0.15681568885132013\n",
      "7\n"
     ]
    }
   ],
   "source": [
    "#51.\n",
    "\n",
    "arr1 = np.random.rand()\n",
    "arr2 = np.random.randint(1,10)\n",
    "print(arr1 + arr2)\n",
    "print(arr1)\n",
    "print(arr2)"
   ]
  },
  {
   "cell_type": "code",
   "execution_count": 28,
   "id": "e1299133-6eea-4aea-a982-d19ee8d04246",
   "metadata": {},
   "outputs": [
    {
     "data": {
      "text/plain": [
       "array([ 9,  7,  5,  3,  1, -1, -3, -5, -7, -9])"
      ]
     },
     "execution_count": 28,
     "metadata": {},
     "output_type": "execute_result"
    }
   ],
   "source": [
    "#52.\n",
    "\n",
    "arr1 = np.arange(10,0,-1)\n",
    "arr2 = np.arange(1,11)\n",
    "\n",
    "arr1 - arr2"
   ]
  },
  {
   "cell_type": "code",
   "execution_count": 29,
   "id": "0aa938f6-35c3-4125-8468-0e2330660729",
   "metadata": {},
   "outputs": [
    {
     "data": {
      "text/plain": [
       "0.7723041769136947"
      ]
     },
     "execution_count": 29,
     "metadata": {},
     "output_type": "execute_result"
    }
   ],
   "source": [
    "#53.\n",
    "\n",
    "arr1 = np.random.rand()\n",
    "arr2 = np.random.randint(1,5)\n",
    "\n",
    "arr1*arr2"
   ]
  },
  {
   "cell_type": "code",
   "execution_count": 30,
   "id": "a0b7eba3-482a-47a6-b8c3-fc943dac75a0",
   "metadata": {},
   "outputs": [
    {
     "data": {
      "text/plain": [
       "array([1., 2., 3., 4., 5.])"
      ]
     },
     "execution_count": 30,
     "metadata": {},
     "output_type": "execute_result"
    }
   ],
   "source": [
    "#54.\n",
    "\n",
    "arr1 = np.arange(2,11,2)\n",
    "arr2 = np.random.randint(1,5)\n",
    "arr1/arr2"
   ]
  },
  {
   "cell_type": "code",
   "execution_count": 31,
   "id": "011d5cc8-930c-4907-a185-f5632700dcb8",
   "metadata": {},
   "outputs": [],
   "source": [
    "#55.\n",
    "\n",
    "arr1 = np.arange(1,5)\n",
    "arr2 = np.flip(arr1)\n",
    "exp = np.exp(arr1**arr2)"
   ]
  },
  {
   "cell_type": "code",
   "execution_count": 32,
   "id": "fc4baa24-6f9f-4af5-8a4d-a9a40b67b92f",
   "metadata": {},
   "outputs": [
    {
     "data": {
      "text/plain": [
       "array([2.71828183e+00, 2.98095799e+03, 8.10308393e+03, 5.45981500e+01])"
      ]
     },
     "execution_count": 32,
     "metadata": {},
     "output_type": "execute_result"
    }
   ],
   "source": [
    "exp"
   ]
  },
  {
   "cell_type": "code",
   "execution_count": 33,
   "id": "450e4628-b0c0-4235-baf7-ffd4403327ac",
   "metadata": {},
   "outputs": [
    {
     "name": "stdout",
     "output_type": "stream",
     "text": [
      "['Hello Open' 'World AI']\n"
     ]
    }
   ],
   "source": [
    "#59.\n",
    "\n",
    "def concatenate_strings(arr1,arr2):\n",
    "    return np.array([' '.join(pair) for pair in zip(arr1,arr2)])\n",
    "\n",
    "arr1 = np.array(['Hello', 'World'])\n",
    "arr2 = np.array(['Open', 'AI'])\n",
    "s = concatenate_strings(arr1,arr2)\n",
    "print(s)"
   ]
  },
  {
   "cell_type": "code",
   "execution_count": 34,
   "id": "c23f8356-0271-4249-8e98-a8e8a917390c",
   "metadata": {},
   "outputs": [
    {
     "name": "stdout",
     "output_type": "stream",
     "text": [
      "542.32\n",
      "528.0\n",
      "75879.5776\n",
      "275.46247947769587\n"
     ]
    }
   ],
   "source": [
    "#61.\n",
    "\n",
    "data = np.random.randint(1,1000,100)\n",
    "mean = np.mean(data)\n",
    "median = np.median(data)\n",
    "variance = np.var(data)\n",
    "std_dev = np.std(data)\n",
    "\n",
    "print(mean)\n",
    "print(median)\n",
    "print(variance)\n",
    "print(std_dev)"
   ]
  },
  {
   "cell_type": "code",
   "execution_count": 35,
   "id": "e9b57782-3651-4eb2-801b-edc10a47dd05",
   "metadata": {},
   "outputs": [
    {
     "name": "stdout",
     "output_type": "stream",
     "text": [
      "[20.75 79.  ]\n"
     ]
    }
   ],
   "source": [
    "#62.\n",
    "\n",
    "arr = np.random.randint(1,100,50)\n",
    "percentile = np.quantile(arr,[0.25,0.75])\n",
    "print(percentile)"
   ]
  },
  {
   "cell_type": "code",
   "execution_count": 36,
   "id": "3768fb54-50d2-4b2c-9969-afbc0ce61dad",
   "metadata": {},
   "outputs": [
    {
     "name": "stdout",
     "output_type": "stream",
     "text": [
      "-0.8183918171270463\n"
     ]
    }
   ],
   "source": [
    "#63.\n",
    "\n",
    "arr1 = np.random.randint(1,30,3)\n",
    "arr2 = np.random.randint(1,30,3)\n",
    "\n",
    "coef = np.corrcoef(arr1,arr2)[0,1]\n",
    "print(coef)"
   ]
  },
  {
   "cell_type": "code",
   "execution_count": 37,
   "id": "c1cd85b7-fcee-4ecb-a449-00e93b1ccc09",
   "metadata": {},
   "outputs": [
    {
     "data": {
      "text/plain": [
       "910"
      ]
     },
     "execution_count": 37,
     "metadata": {},
     "output_type": "execute_result"
    }
   ],
   "source": [
    "#64.\n",
    "\n",
    "mat1 = np.random.randint(1,3,(3,3))\n",
    "mat2 = np.random.randint(1,3,(3,3))\n",
    "np.dot(arr1,arr2)"
   ]
  },
  {
   "cell_type": "code",
   "execution_count": 38,
   "id": "05fd3915-085b-4b22-866a-ec5bbe58b5c2",
   "metadata": {},
   "outputs": [
    {
     "name": "stdout",
     "output_type": "stream",
     "text": [
      "57.7\n",
      "461.0\n",
      "938.0\n",
      "[235.25 777.5 ]\n"
     ]
    }
   ],
   "source": [
    "#65.\n",
    "\n",
    "arr = np.random.randint(10,1000,50)\n",
    "tenth = np.percentile(arr,10)\n",
    "median = np.median(arr)\n",
    "ninetieth = np.percentile(arr,90)\n",
    "quartiles = np.quantile(arr,[0.25,0.75])\n",
    "print(tenth)\n",
    "print(median)\n",
    "print(ninetieth)\n",
    "print(quartiles)"
   ]
  },
  {
   "cell_type": "code",
   "execution_count": 39,
   "id": "5f11bb70-e773-4fca-9799-6f85db7515f4",
   "metadata": {},
   "outputs": [],
   "source": [
    "#66.\n",
    "\n",
    "arr = np.arange(1,10)\n",
    "index = np.where(arr == 4)[0]"
   ]
  },
  {
   "cell_type": "code",
   "execution_count": 40,
   "id": "2f3b8e74-3c67-49cd-9309-afa60bf5f9ae",
   "metadata": {},
   "outputs": [
    {
     "data": {
      "text/plain": [
       "array([3])"
      ]
     },
     "execution_count": 40,
     "metadata": {},
     "output_type": "execute_result"
    }
   ],
   "source": [
    "index"
   ]
  },
  {
   "cell_type": "code",
   "execution_count": 41,
   "id": "12df6c1a-07b9-445e-a24c-6f997d4efc93",
   "metadata": {},
   "outputs": [
    {
     "data": {
      "text/plain": [
       "array([ 1,  2,  3,  6,  7, 10, 15, 18])"
      ]
     },
     "execution_count": 41,
     "metadata": {},
     "output_type": "execute_result"
    }
   ],
   "source": [
    "#67.\n",
    "\n",
    "arr = np.array([1,15,2,6,10,18,3,7])\n",
    "np.sort(arr)"
   ]
  },
  {
   "cell_type": "code",
   "execution_count": 42,
   "id": "4a0188a4-34e6-41c5-a904-c71a53e528e2",
   "metadata": {},
   "outputs": [
    {
     "name": "stdout",
     "output_type": "stream",
     "text": [
      "[25 42 30]\n"
     ]
    }
   ],
   "source": [
    "#68.\n",
    "\n",
    "arr = np.array([12, 25, 6, 42, 8, 30])\n",
    "filtered = arr[arr>20]\n",
    "print(filtered)"
   ]
  },
  {
   "cell_type": "code",
   "execution_count": 43,
   "id": "d738e96b-b117-480c-9094-c7e786290679",
   "metadata": {},
   "outputs": [
    {
     "name": "stdout",
     "output_type": "stream",
     "text": [
      "[12 15]\n"
     ]
    }
   ],
   "source": [
    "#69.\n",
    "\n",
    "arr = np.array([1, 5, 8, 12, 15])\n",
    "filtered = arr[arr % 3 ==0]\n",
    "print(filtered)"
   ]
  },
  {
   "cell_type": "code",
   "execution_count": 44,
   "id": "019a6dd9-252a-4244-97af-aea232f76259",
   "metadata": {},
   "outputs": [
    {
     "name": "stdout",
     "output_type": "stream",
     "text": [
      "[20 30 40]\n"
     ]
    }
   ],
   "source": [
    "#70.\n",
    "\n",
    "arr = np.array([10, 20, 30, 40, 50])\n",
    "filtered = arr[(arr>=20) & (arr<=40)]\n",
    "print(filtered)"
   ]
  },
  {
   "cell_type": "code",
   "execution_count": 45,
   "id": "90c36e03-7352-4b69-ae13-bbb97783d1bd",
   "metadata": {},
   "outputs": [
    {
     "data": {
      "text/plain": [
       "'='"
      ]
     },
     "execution_count": 45,
     "metadata": {},
     "output_type": "execute_result"
    }
   ],
   "source": [
    "#71.\n",
    "\n",
    "arr = np.array([1, 2, 3])\n",
    "byte = arr.dtype.byteorder\n",
    "byte"
   ]
  },
  {
   "cell_type": "code",
   "execution_count": 46,
   "id": "47aa989c-d4f8-452f-bac3-34a06faf7cc0",
   "metadata": {},
   "outputs": [
    {
     "data": {
      "text/plain": [
       "array([16777216, 33554432, 50331648], dtype=int32)"
      ]
     },
     "execution_count": 46,
     "metadata": {},
     "output_type": "execute_result"
    }
   ],
   "source": [
    "#72.\n",
    "\n",
    "arr = np.array([1, 2, 3], dtype=np.int32)\n",
    "swap = arr.byteswap()\n",
    "swap"
   ]
  },
  {
   "cell_type": "code",
   "execution_count": 47,
   "id": "4900b62f-bccf-48d3-a404-04dab40505f9",
   "metadata": {},
   "outputs": [
    {
     "name": "stdout",
     "output_type": "stream",
     "text": [
      "[16777216 33554432 50331648]\n",
      "[1 2 3]\n"
     ]
    }
   ],
   "source": [
    "#73.\n",
    "\n",
    "arr = np.array([1, 2, 3], dtype=np.int32)\n",
    "a = arr.copy()\n",
    "swap = arr.byteswap()\n",
    "print(swap)\n",
    "print(a)"
   ]
  },
  {
   "cell_type": "code",
   "execution_count": 48,
   "id": "5afb2dc0-077c-4aa6-a9b4-f388d573d94d",
   "metadata": {},
   "outputs": [
    {
     "name": "stdout",
     "output_type": "stream",
     "text": [
      "Byte swapping necessary False\n"
     ]
    }
   ],
   "source": [
    "#75.\n",
    "\n",
    "arr = np.array([1, 2, 3], dtype=np.int32)\n",
    "\n",
    "is_needed = arr.dtype.byteorder == '<'\n",
    "print('Byte swapping necessary',is_needed)"
   ]
  },
  {
   "cell_type": "code",
   "execution_count": 49,
   "id": "319057f6-db7e-4019-bfc3-97bcb1e10f53",
   "metadata": {},
   "outputs": [
    {
     "name": "stdout",
     "output_type": "stream",
     "text": [
      "[1 2 3 4 5 6 7 8 9]\n",
      "[1 2 3 4 5 6 7 8 9]\n"
     ]
    }
   ],
   "source": [
    "#76.\n",
    "\n",
    "arr1 = np.arange(1,10,1)\n",
    "copy_arr = arr1\n",
    "\n",
    "print(arr1)\n",
    "print(copy_arr)"
   ]
  },
  {
   "cell_type": "code",
   "execution_count": 50,
   "id": "a0c4d928-4a12-47c2-8761-2356af11e7e6",
   "metadata": {},
   "outputs": [
    {
     "name": "stdout",
     "output_type": "stream",
     "text": [
      "[1 2 4 4 5 6 7 8 9]\n",
      "[1 2 4 4 5 6 7 8 9]\n",
      "yes changing\n"
     ]
    }
   ],
   "source": [
    "copy_arr[2] = 4\n",
    "print(arr1)\n",
    "print(copy_arr)\n",
    "print('yes changing')"
   ]
  },
  {
   "cell_type": "code",
   "execution_count": 51,
   "id": "68ebc8db-6929-4356-860d-f8d728fabf40",
   "metadata": {},
   "outputs": [
    {
     "name": "stdout",
     "output_type": "stream",
     "text": [
      "modified reshaped:\n",
      " [[ 1  2]\n",
      " [ 3  4]\n",
      " [ 5 89]\n",
      " [ 7  8]]\n",
      "orig arr after modify:\n",
      " [[ 1  2  3  4]\n",
      " [ 5 89  7  8]]\n"
     ]
    }
   ],
   "source": [
    "#79.\n",
    "\n",
    "orig_arr = np.arange(1,9).reshape(2,4)\n",
    "reshaped = orig_arr.reshape(4,2)\n",
    "reshaped[2,1] = 89\n",
    "print('modified reshaped:\\n',reshaped)\n",
    "print('orig arr after modify:\\n',orig_arr)"
   ]
  },
  {
   "cell_type": "code",
   "execution_count": 52,
   "id": "adbe5ecd-1f12-4262-be91-d0f6c083d502",
   "metadata": {},
   "outputs": [
    {
     "name": "stdout",
     "output_type": "stream",
     "text": [
      "original data:\n",
      " [[4 4 2 3]\n",
      " [7 9 7 8]\n",
      " [4 9 9 7]]\n",
      "elements greater than 5:\n",
      " [7 9 7 8 9 9 7]\n",
      "modified data_copy:\n",
      " [  7 222   7   8   9   9   7]\n",
      "oroginal data after modificataion:\n",
      " [[4 4 2 3]\n",
      " [7 9 7 8]\n",
      " [4 9 9 7]]\n"
     ]
    }
   ],
   "source": [
    "#80.\n",
    "\n",
    "data = np.random.randint(1,10,(3,4))\n",
    "print('original data:\\n',data)\n",
    "\n",
    "data_copy = data[data>5].copy()\n",
    "print('elements greater than 5:\\n',data_copy)\n",
    "data_copy[1] = 222\n",
    "print('modified data_copy:\\n',data_copy)\n",
    "\n",
    "print('oroginal data after modificataion:\\n',data)"
   ]
  },
  {
   "cell_type": "code",
   "execution_count": 53,
   "id": "a827ee41-2eea-402c-b86d-518ec2f96ce0",
   "metadata": {},
   "outputs": [
    {
     "name": "stdout",
     "output_type": "stream",
     "text": [
      "[[25 23 12]\n",
      " [15 16 21]\n",
      " [26 26 16]]\n",
      "[[-13 -15   2]\n",
      " [-13  -2 -15]\n",
      " [-10  -8   0]]\n"
     ]
    }
   ],
   "source": [
    "#81.\n",
    "\n",
    "mat1 = np.random.randint(1,10,(3,3))\n",
    "mat2 = np.random.randint(1,20,(3,3))\n",
    "print(mat1 + mat2)\n",
    "print(mat1 - mat2)\n"
   ]
  },
  {
   "cell_type": "code",
   "execution_count": 54,
   "id": "9fbbdeec-c3cf-467f-a898-3f8e3330b252",
   "metadata": {},
   "outputs": [
    {
     "data": {
      "text/plain": [
       "array([[136,  71, 175, 159],\n",
       "       [ 60,  35,  83,  75],\n",
       "       [ 86,  21,  73,  69]])"
      ]
     },
     "execution_count": 54,
     "metadata": {},
     "output_type": "execute_result"
    }
   ],
   "source": [
    "#82.\n",
    "\n",
    "C = np.random.randint(1,10,(3,2))\n",
    "D= np.random.randint(1,20,(2,4))\n",
    "\n",
    "C@D"
   ]
  },
  {
   "cell_type": "code",
   "execution_count": 58,
   "id": "a6852931-a8eb-4a29-97e6-9c24b7ead173",
   "metadata": {},
   "outputs": [
    {
     "data": {
      "text/plain": [
       "array([[1, 5],\n",
       "       [2, 6],\n",
       "       [3, 7]])"
      ]
     },
     "execution_count": 58,
     "metadata": {},
     "output_type": "execute_result"
    }
   ],
   "source": [
    "#83.\n",
    "\n",
    "E = np.array([[1,2,3],[5,6,7]])\n",
    "E.T"
   ]
  },
  {
   "cell_type": "code",
   "execution_count": 61,
   "id": "fa80f368-9296-43e4-b3c7-a72aaf0ba0c1",
   "metadata": {},
   "outputs": [
    {
     "name": "stdout",
     "output_type": "stream",
     "text": [
      "-115.99999999999999\n"
     ]
    }
   ],
   "source": [
    "#84.\n",
    "\n",
    "S = np.random.randint(1,10,(4,4))\n",
    "determinant = np.linalg.det(S)\n",
    "print(determinant)"
   ]
  },
  {
   "cell_type": "code",
   "execution_count": 62,
   "id": "d19e29df-5025-499d-90ab-e1895bcda20f",
   "metadata": {},
   "outputs": [
    {
     "name": "stdout",
     "output_type": "stream",
     "text": [
      "[[ 1.8  -0.24 -0.64]\n",
      " [-0.8   0.04  0.44]\n",
      " [-0.6   0.28  0.08]]\n"
     ]
    }
   ],
   "source": [
    "#85.\n",
    "\n",
    "I = np.random.randint(1,10,(3,3))\n",
    "inverse = np.linalg.inv(I)\n",
    "print(inverse)"
   ]
  },
  {
   "cell_type": "code",
   "execution_count": null,
   "id": "024ad2da-102d-4337-8364-5fb69df2e247",
   "metadata": {},
   "outputs": [],
   "source": []
  }
 ],
 "metadata": {
  "kernelspec": {
   "display_name": "Python 3 (ipykernel)",
   "language": "python",
   "name": "python3"
  },
  "language_info": {
   "codemirror_mode": {
    "name": "ipython",
    "version": 3
   },
   "file_extension": ".py",
   "mimetype": "text/x-python",
   "name": "python",
   "nbconvert_exporter": "python",
   "pygments_lexer": "ipython3",
   "version": "3.10.8"
  }
 },
 "nbformat": 4,
 "nbformat_minor": 5
}
