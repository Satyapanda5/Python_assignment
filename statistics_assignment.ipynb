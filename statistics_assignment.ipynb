{
 "cells": [
  {
   "cell_type": "code",
   "execution_count": 1,
   "id": "553dde93-f1eb-4879-9b85-738c91f4c0b7",
   "metadata": {},
   "outputs": [],
   "source": [
    "import numpy as np\n",
    "import pandas as pd\n",
    "import seaborn as sns\n",
    "import matplotlib.pyplot as plt\n",
    "import warnings\n",
    "warnings.filterwarnings('ignore')"
   ]
  },
  {
   "cell_type": "markdown",
   "id": "e4df305d-4836-4519-a75b-c81324b5de1d",
   "metadata": {},
   "source": [
    "QUESTION NUMBER - 1"
   ]
  },
  {
   "cell_type": "code",
   "execution_count": 2,
   "id": "9c0b5c5b-937e-48a9-923c-9d355c87acc3",
   "metadata": {},
   "outputs": [
    {
     "data": {
      "text/plain": [
       "array([108, 126,  94, 115,  95,  99, 125, 109, 120,  99,  95, 103,  95,\n",
       "       101, 104, 118, 119, 114, 110, 114,  92, 117, 129,  95, 103,  92,\n",
       "       104, 110,  96,  96, 111, 118, 123,  94, 112, 111, 114,  93,  92,\n",
       "       116, 116, 124,  99,  92, 124, 127,  97,  90,  93, 112, 128,  94,\n",
       "       107,  97, 119, 100,  92, 102, 121,  90,  98, 125, 123,  94, 105,\n",
       "       110, 120, 112, 101, 128,  91, 124, 105, 128, 101,  93,  93,  99,\n",
       "       116, 113, 108,  95, 127, 109, 111, 129,  96, 125,  93, 120, 111,\n",
       "       117, 125, 102, 115, 127, 117, 119,  90, 115])"
      ]
     },
     "execution_count": 2,
     "metadata": {},
     "output_type": "execute_result"
    }
   ],
   "source": [
    "int_list = np.random.randint(90,130,100)\n",
    "int_list"
   ]
  },
  {
   "cell_type": "code",
   "execution_count": 3,
   "id": "960a4f79-299d-4ec2-a395-826a0d391916",
   "metadata": {},
   "outputs": [
    {
     "name": "stdout",
     "output_type": "stream",
     "text": [
      "mean: 108.35\n",
      "median: 109.5\n"
     ]
    }
   ],
   "source": [
    "#i.\n",
    "print('mean:',np.mean(int_list))\n",
    "print('median:',np.median(int_list))"
   ]
  },
  {
   "cell_type": "code",
   "execution_count": 4,
   "id": "ef1a2dc9-f2fe-40bf-8c08-9c193ee5edd6",
   "metadata": {},
   "outputs": [
    {
     "data": {
      "text/plain": [
       "95"
      ]
     },
     "execution_count": 4,
     "metadata": {},
     "output_type": "execute_result"
    }
   ],
   "source": [
    "#ii.\n",
    "import statistics\n",
    "statistics.mode(int_list)"
   ]
  },
  {
   "cell_type": "code",
   "execution_count": 5,
   "id": "79a0569a-e5fe-4f27-814b-c3c7d7aec57d",
   "metadata": {},
   "outputs": [
    {
     "name": "stdout",
     "output_type": "stream",
     "text": [
      "4.214285714285714\n"
     ]
    }
   ],
   "source": [
    "#iii.\n",
    "integers = [1,2,4,5,6]\n",
    "weights = [2,1,3,5,3]\n",
    "weighted_sum = 0\n",
    "total_weight = 0\n",
    "for integer , weight in zip(integers,weights):\n",
    "    weighted_sum += integer*weight\n",
    "    total_weight += weight\n",
    "weighted_mean = weighted_sum/total_weight\n",
    "print(weighted_mean)\n"
   ]
  },
  {
   "cell_type": "code",
   "execution_count": 6,
   "id": "9f9c2b19-5725-4ad9-98ee-faed62926fa5",
   "metadata": {},
   "outputs": [],
   "source": [
    "#iv."
   ]
  },
  {
   "cell_type": "code",
   "execution_count": 7,
   "id": "44bf156a-e227-4615-a554-b86e752a920d",
   "metadata": {},
   "outputs": [
    {
     "name": "stdout",
     "output_type": "stream",
     "text": [
      "Harmonic mean: 107.00429897001727\n"
     ]
    }
   ],
   "source": [
    "#v.\n",
    "reciprocals_sum = 0\n",
    "for num in int_list:\n",
    "    reciprocals_sum += 1/num\n",
    "    \n",
    "arithmatic_mean_reciprocals = reciprocals_sum/len(int_list)\n",
    "harmonic_mean = 1/arithmatic_mean_reciprocals\n",
    "print(\"Harmonic mean:\",harmonic_mean)"
   ]
  },
  {
   "cell_type": "code",
   "execution_count": 8,
   "id": "ccf1392f-1916-404c-8cad-ca8a58ecc424",
   "metadata": {},
   "outputs": [
    {
     "data": {
      "text/plain": [
       "5.0"
      ]
     },
     "execution_count": 8,
     "metadata": {},
     "output_type": "execute_result"
    }
   ],
   "source": [
    "#vi.\n",
    "def midrange(numbers):\n",
    "    if not numbers:\n",
    "        return None\n",
    "    minimum = min(numbers)\n",
    "    maximum = max(numbers)\n",
    "    midrange = (maximum+minimum)/2\n",
    "    return midrange\n",
    "numbers = [1,2,4,9,6,8]\n",
    "midrange(numbers)"
   ]
  },
  {
   "cell_type": "code",
   "execution_count": 9,
   "id": "3e0379b3-325a-4360-8e06-036f5adcff17",
   "metadata": {},
   "outputs": [
    {
     "name": "stdout",
     "output_type": "stream",
     "text": [
      "108\n"
     ]
    }
   ],
   "source": [
    "#vii.\n",
    "import statistics\n",
    "data = int_list\n",
    "percent = 40 #assume\n",
    "n = int(len(data)*percent/100) #n is outlier\n",
    "data.sort()\n",
    "trimmed_data = data[n:-n]\n",
    "trimmed_mean = statistics.mean(trimmed_data)\n",
    "print(trimmed_mean)"
   ]
  },
  {
   "cell_type": "markdown",
   "id": "645d820c-bfc8-430e-8bba-a5167d9c4f0f",
   "metadata": {},
   "source": [
    "QUESTION NUMBER - 2"
   ]
  },
  {
   "cell_type": "code",
   "execution_count": 10,
   "id": "53f65bea-702f-4ca3-a7ec-49602e6a0576",
   "metadata": {},
   "outputs": [
    {
     "data": {
      "text/plain": [
       "array([207, 231, 291, 295, 238, 239, 216, 247, 289, 226, 299, 287, 248,\n",
       "       224, 249, 250, 255, 251, 228, 243, 289, 278, 239, 276, 207, 290,\n",
       "       222, 207, 259, 262, 292, 268, 219, 258, 271, 258, 292, 204, 238,\n",
       "       285, 244, 294, 214, 263, 253, 274, 291, 241, 293, 241, 222, 287,\n",
       "       233, 265, 241, 266, 212, 273, 285, 246, 277, 228, 292, 286, 205,\n",
       "       252, 227, 293, 276, 267, 244, 283, 235, 211, 252, 230, 221, 281,\n",
       "       280, 263, 260, 248, 296, 291, 296, 210, 286, 258, 280, 219, 290,\n",
       "       226, 249, 215, 296, 291, 228, 229, 257, 277, 246, 289, 243, 233,\n",
       "       296, 291, 269, 291, 297, 222, 277, 278, 211, 206, 221, 296, 251,\n",
       "       237, 280, 269, 237, 257, 237, 254, 203, 298, 214, 293, 295, 210,\n",
       "       246, 225, 256, 299, 220, 271, 200, 299, 202, 277, 262, 202, 260,\n",
       "       200, 294, 281, 286, 287, 228, 282, 217, 298, 227, 289, 254, 200,\n",
       "       262, 268, 234, 266, 263, 276, 237, 217, 235, 204, 245, 236, 248,\n",
       "       294, 251, 212, 222, 274, 245, 243, 203, 205, 272, 224, 255, 295,\n",
       "       217, 202, 274, 206, 212, 222, 256, 232, 241, 239, 211, 262, 285,\n",
       "       263, 276, 286, 299, 224, 297, 202, 233, 254, 252, 274, 289, 202,\n",
       "       265, 243, 226, 249, 273, 211, 232, 275, 210, 224, 213, 244, 202,\n",
       "       205, 220, 259, 212, 218, 297, 233, 238, 258, 271, 236, 275, 287,\n",
       "       229, 224, 205, 220, 299, 234, 286, 287, 247, 270, 293, 287, 238,\n",
       "       249, 235, 231, 229, 250, 229, 231, 249, 204, 212, 295, 260, 255,\n",
       "       225, 212, 255, 248, 215, 284, 248, 210, 287, 213, 264, 212, 279,\n",
       "       237, 283, 250, 271, 278, 205, 211, 270, 227, 209, 205, 221, 287,\n",
       "       232, 270, 246, 258, 248, 283, 251, 204, 207, 237, 216, 205, 244,\n",
       "       296, 290, 272, 235, 252, 216, 289, 285, 296, 245, 246, 282, 207,\n",
       "       240, 222, 207, 249, 211, 294, 294, 294, 246, 268, 239, 208, 233,\n",
       "       221, 232, 282, 203, 228, 268, 214, 260, 279, 234, 246, 288, 292,\n",
       "       215, 212, 207, 227, 278, 202, 225, 205, 227, 231, 204, 206, 202,\n",
       "       254, 214, 280, 220, 296, 293, 285, 268, 278, 261, 209, 212, 206,\n",
       "       296, 236, 256, 274, 211, 232, 277, 249, 242, 283, 278, 290, 283,\n",
       "       209, 260, 247, 248, 229, 235, 266, 259, 285, 294, 268, 243, 204,\n",
       "       270, 263, 257, 253, 250, 248, 279, 232, 263, 256, 242, 299, 276,\n",
       "       255, 207, 273, 243, 258, 261, 267, 269, 201, 279, 208, 278, 245,\n",
       "       224, 280, 240, 260, 215, 204, 238, 275, 220, 234, 270, 216, 241,\n",
       "       257, 240, 224, 226, 254, 249, 264, 297, 228, 267, 284, 264, 224,\n",
       "       259, 295, 273, 242, 292, 287, 256, 276, 267, 226, 235, 221, 225,\n",
       "       226, 226, 229, 215, 292, 231, 267, 260, 263, 212, 205, 211, 277,\n",
       "       267, 200, 205, 201, 242, 227, 234, 247, 234, 261, 273, 285, 215,\n",
       "       266, 204, 261, 237, 227, 279, 254, 246, 209, 240, 201, 279, 288,\n",
       "       246, 202, 292, 283, 203, 262])"
      ]
     },
     "execution_count": 10,
     "metadata": {},
     "output_type": "execute_result"
    }
   ],
   "source": [
    "int_list2 = np.random.randint(200,300,500)\n",
    "int_list2"
   ]
  },
  {
   "cell_type": "code",
   "execution_count": 11,
   "id": "e9fffe54-2a3f-48af-b291-fb6723d9d38c",
   "metadata": {},
   "outputs": [
    {
     "data": {
      "image/png": "[encoded data removed]",
      "text/plain": [
       "<Figure size 640x480 with 1 Axes>"
      ]
     },
     "metadata": {},
     "output_type": "display_data"
    }
   ],
   "source": [
    "#i.a.frequency and gaussian dist\n",
    "sns.histplot(int_list2,kde=True,stat='density')\n",
    "plt.title(\"Frequency&Gaussian dist\")\n",
    "plt.xlabel('Value')\n",
    "plt.ylabel('Density')\n",
    "plt.show()"
   ]
  },
  {
   "cell_type": "code",
   "execution_count": 12,
   "id": "8abc039e-856e-4979-b5f1-0ec6fcd89dd4",
   "metadata": {},
   "outputs": [
    {
     "data": {
      "image/png": "[encoded data removed]",
      "text/plain": [
       "<Figure size 640x480 with 1 Axes>"
      ]
     },
     "metadata": {},
     "output_type": "display_data"
    }
   ],
   "source": [
    "#i.b.frequency smoothed kde\n",
    "sns.kdeplot(int_list2,color = \"red\",shade = True)\n",
    "plt.xlabel('Value')\n",
    "plt.ylabel('Density')\n",
    "plt.show()"
   ]
  },
  {
   "cell_type": "code",
   "execution_count": 13,
   "id": "8feda462-8b73-4fee-8347-95be97db5745",
   "metadata": {},
   "outputs": [
    {
     "data": {
      "image/png": "[encoded data removed]",
      "text/plain": [
       "<Figure size 640x480 with 1 Axes>"
      ]
     },
     "metadata": {},
     "output_type": "display_data"
    }
   ],
   "source": [
    "#i.c. gaussian dist and smoothened kde plot\n",
    "sns.histplot(int_list2,kde = True,stat = \"density\")\n",
    "sns.kdeplot(int_list2,color = \"blue\",label = 'Gauss kde')\n",
    "plt.title(\"Gaussian dist & Smoothed Kde\")\n",
    "plt.xlabel('Value')\n",
    "plt.ylabel('Density')\n",
    "plt.legend()\n",
    "plt.grid()\n",
    "plt.show()"
   ]
  },
  {
   "cell_type": "code",
   "execution_count": 14,
   "id": "56aadc0d-1e2c-48ee-8cff-18151d692f68",
   "metadata": {},
   "outputs": [
    {
     "name": "stdout",
     "output_type": "stream",
     "text": [
      "99\n"
     ]
    }
   ],
   "source": [
    "#ii.\n",
    "maximum = max(int_list2)\n",
    "minimum = min(int_list2)\n",
    "r = maximum - minimum\n",
    "print(r)"
   ]
  },
  {
   "cell_type": "code",
   "execution_count": 15,
   "id": "a09f9855-a947-4e1a-aeda-55815b8f45c0",
   "metadata": {},
   "outputs": [
    {
     "data": {
      "text/plain": [
       "299"
      ]
     },
     "execution_count": 15,
     "metadata": {},
     "output_type": "execute_result"
    }
   ],
   "source": [
    "maximum"
   ]
  },
  {
   "cell_type": "code",
   "execution_count": 16,
   "id": "1c2d0be9-af10-4f15-a4fd-cc5356ade6ce",
   "metadata": {},
   "outputs": [
    {
     "data": {
      "text/plain": [
       "200"
      ]
     },
     "execution_count": 16,
     "metadata": {},
     "output_type": "execute_result"
    }
   ],
   "source": [
    "minimum"
   ]
  },
  {
   "cell_type": "code",
   "execution_count": 17,
   "id": "bfdf2099-71fa-4d40-bc29-42fbc5fa871c",
   "metadata": {},
   "outputs": [
    {
     "name": "stdout",
     "output_type": "stream",
     "text": [
      "variance: 864.460876\n",
      "std: 29.401715528179643\n"
     ]
    }
   ],
   "source": [
    "#iii.\n",
    "variance = np.var(int_list2)\n",
    "std = np.std(int_list2)\n",
    "print('variance:',variance)\n",
    "print('std:',std)"
   ]
  },
  {
   "cell_type": "code",
   "execution_count": 18,
   "id": "3cbddc65-d4e4-415f-a732-c2acb78c5d84",
   "metadata": {},
   "outputs": [],
   "source": [
    "#iv.\n",
    "IQR  = np.quantile(int_list2,[0.25,0.75])"
   ]
  },
  {
   "cell_type": "code",
   "execution_count": 19,
   "id": "3647df51-019f-482d-bda4-d5877797fab3",
   "metadata": {},
   "outputs": [
    {
     "data": {
      "text/plain": [
       "array([225., 276.])"
      ]
     },
     "execution_count": 19,
     "metadata": {},
     "output_type": "execute_result"
    }
   ],
   "source": [
    "IQR"
   ]
  },
  {
   "cell_type": "code",
   "execution_count": 20,
   "id": "4639d9e4-2ee4-4b29-9e1f-40f5ef6df4d2",
   "metadata": {},
   "outputs": [
    {
     "name": "stdout",
     "output_type": "stream",
     "text": [
      "coefficient of variance: 11.792857125510249\n"
     ]
    }
   ],
   "source": [
    "#v. \n",
    "mean = np.mean(int_list2)\n",
    "std = np.std(int_list2)\n",
    "cv = (std/mean)*100\n",
    "\n",
    "print(\"coefficient of variance:\",cv)"
   ]
  },
  {
   "cell_type": "code",
   "execution_count": 21,
   "id": "67e1bf0a-7c86-4a83-8bbf-df62f1cd4e35",
   "metadata": {},
   "outputs": [
    {
     "name": "stdout",
     "output_type": "stream",
     "text": [
      "Mean absolute deviation: 25.400176\n"
     ]
    }
   ],
   "source": [
    "#vi.\n",
    "data = int_list2\n",
    "mean = np.mean(data)\n",
    "deviation = [abs(x-mean) for x in data]\n",
    "MAD = sum(deviation)/len(deviation)\n",
    "print(\"Mean absolute deviation:\",MAD)"
   ]
  },
  {
   "cell_type": "code",
   "execution_count": 22,
   "id": "a92b8dbd-9816-4ce6-9984-732c0f94aa32",
   "metadata": {},
   "outputs": [
    {
     "name": "stdout",
     "output_type": "stream",
     "text": [
      "Quartile deviation: [124.25]\n"
     ]
    }
   ],
   "source": [
    "#vii.\n",
    "quartile = np.quantile(int_list2,[0.50])\n",
    "q_deviation = (quartile)/2\n",
    "print(\"Quartile deviation:\",q_deviation)"
   ]
  },
  {
   "cell_type": "code",
   "execution_count": 23,
   "id": "649fcf1e-d613-49a8-be92-900b820b4ffe",
   "metadata": {},
   "outputs": [
    {
     "name": "stdout",
     "output_type": "stream",
     "text": [
      "Coefficent: 0.3970832430871417\n"
     ]
    }
   ],
   "source": [
    "#viii.\n",
    "r = max(int_list2)-min(int_list2)\n",
    "m = np.mean(int_list2)\n",
    "range_based_coefficient_dispersion = r/m\n",
    "print(\"Coefficent:\",range_based_coefficient_dispersion)"
   ]
  },
  {
   "cell_type": "markdown",
   "id": "64ab7909-3660-48d4-a4d3-d95ffbe55153",
   "metadata": {},
   "source": [
    "QUESTION NUMBER-3"
   ]
  },
  {
   "cell_type": "markdown",
   "id": "119ff5ff-791a-48b7-b703-41942a6ae21f",
   "metadata": {},
   "source": [
    "QUESTION NUMBER_4"
   ]
  },
  {
   "cell_type": "code",
   "execution_count": 24,
   "id": "5f926146-3c8d-4a16-8eaa-2c20d849b398",
   "metadata": {},
   "outputs": [
    {
     "name": "stdout",
     "output_type": "stream",
     "text": [
      "Expected value: 3.00007\n",
      "Variance: 1.9893299950995145\n"
     ]
    }
   ],
   "source": [
    "number_rolls = 100000\n",
    "rolls = []\n",
    "\n",
    "for i in range(number_rolls):\n",
    "    roll = np.random.randint(1,6)\n",
    "    rolls.append(roll)\n",
    "\n",
    "expected_value = sum(rolls)/len(rolls)\n",
    "squared_diff = [(x - expected_value)**2 for x in rolls]\n",
    "var = sum(squared_diff)/len(rolls)\n",
    "\n",
    "print('Expected value:',expected_value)\n",
    "print('Variance:',var)"
   ]
  },
  {
   "cell_type": "markdown",
   "id": "6ef78326-ed35-44d7-ae32-17fc81e255b6",
   "metadata": {},
   "source": [
    "QUESTION NUMBER-5"
   ]
  },
  {
   "cell_type": "code",
   "execution_count": 25,
   "id": "7b1be143-5c20-4c41-acb4-85f9c248e96f",
   "metadata": {},
   "outputs": [
    {
     "name": "stdout",
     "output_type": "stream",
     "text": [
      "Mean of sample: 5.055\n",
      "Variance of sample: 2.5519750000000005\n"
     ]
    }
   ],
   "source": [
    "population = np.random.binomial(10,0.5,1000)\n",
    "sample_size = int(len(population)*0.2)\n",
    "sample = np.random.choice(population,size = sample_size)\n",
    "mean = np.mean(sample)\n",
    "var = np.var(sample)\n",
    "print('Mean of sample:',mean)\n",
    "print('Variance of sample:',var)"
   ]
  },
  {
   "cell_type": "markdown",
   "id": "91bef826-c470-413e-ac3a-f2c7a3d91c4a",
   "metadata": {},
   "source": [
    "QUESTION NUMBER-6"
   ]
  },
  {
   "cell_type": "code",
   "execution_count": 26,
   "id": "b577e35f-a1c8-4403-ae2e-8ffb3c9e9aa9",
   "metadata": {},
   "outputs": [
    {
     "name": "stdout",
     "output_type": "stream",
     "text": [
      "Mean: 0.34566256861172984\n",
      "Variance: 1.0896322178126296\n",
      "Standard deviation: 1.043854500307696\n"
     ]
    }
   ],
   "source": [
    "population = np.random.randn(100)\n",
    "sample_size = int(len(population)*0.2)\n",
    "sample = np.random.choice(population,size=sample_size)\n",
    "mean = np.mean(sample)\n",
    "var = np.var(sample)\n",
    "std_deviation = np.std(sample)\n",
    "print(\"Mean:\",mean)\n",
    "print(\"Variance:\",var)\n",
    "print(\"Standard deviation:\",std_deviation)"
   ]
  },
  {
   "cell_type": "markdown",
   "id": "e9760dd9-1640-406a-8eca-ab6d9352038b",
   "metadata": {},
   "source": [
    "QUESTION-7"
   ]
  },
  {
   "cell_type": "code",
   "execution_count": 27,
   "id": "932ed0b9-89e3-4905-aec7-b2418e4b06c8",
   "metadata": {},
   "outputs": [
    {
     "data": {
      "text/plain": [
       "0      1.01\n",
       "1      1.66\n",
       "2      3.50\n",
       "3      3.31\n",
       "4      3.61\n",
       "       ... \n",
       "239    5.92\n",
       "240    2.00\n",
       "241    2.00\n",
       "242    1.75\n",
       "243    3.00\n",
       "Name: tip, Length: 244, dtype: float64"
      ]
     },
     "execution_count": 27,
     "metadata": {},
     "output_type": "execute_result"
    }
   ],
   "source": [
    "df = sns.load_dataset(\"tips\")\n",
    "df\n",
    "df.total_bill\n",
    "df.tip"
   ]
  },
  {
   "cell_type": "code",
   "execution_count": 28,
   "id": "c6c00463-bec9-48d1-a5da-5a4027f4a5b1",
   "metadata": {},
   "outputs": [
    {
     "name": "stdout",
     "output_type": "stream",
     "text": [
      "skew 1: 1.1262346334818638\n",
      "skew 2: 1.4564266884221506\n"
     ]
    }
   ],
   "source": [
    "#i.\n",
    "import scipy.stats as stats\n",
    "skewness1 = stats.skew(df['total_bill'])\n",
    "skewness2 = stats.skew(df['tip'])\n",
    "print('skew 1:',skewness1)\n",
    "print('skew 2:',skewness2)"
   ]
  },
  {
   "cell_type": "code",
   "execution_count": 29,
   "id": "afd5a89d-5e05-457e-93c6-ba42a7b3e68a",
   "metadata": {},
   "outputs": [
    {
     "name": "stdout",
     "output_type": "stream",
     "text": [
      "total_bill is positively skewed.\n",
      "tip is positively skewed.\n",
      "size is positively skewed.\n"
     ]
    }
   ],
   "source": [
    "#ii.\n",
    "data = df\n",
    "skew_values = data.skew()\n",
    "for column,skewness in skew_values.items():\n",
    "    if skewness > 0:\n",
    "        print(f\"{column} is positively skewed.\")\n",
    "    elif skewness < 0:\n",
    "        print(f\"{column} is negatively skewed.\")\n",
    "    else:\n",
    "        print(f\"{column} is approx symmetric\")"
   ]
  },
  {
   "cell_type": "code",
   "execution_count": 30,
   "id": "d8451047-3220-4efe-a481-438347a26667",
   "metadata": {},
   "outputs": [
    {
     "name": "stdout",
     "output_type": "stream",
     "text": [
      "Covariance: 8.323501629224854\n"
     ]
    }
   ],
   "source": [
    "#iii.\n",
    "col1 = df['total_bill'].values\n",
    "col2 = df['tip'].values\n",
    "cov = np.cov(col1,col2)[0,1]\n",
    "print('Covariance:',cov)"
   ]
  },
  {
   "cell_type": "code",
   "execution_count": 31,
   "id": "86ab53bf-48ce-433e-9aeb-551cdf6cc4bf",
   "metadata": {},
   "outputs": [
    {
     "name": "stdout",
     "output_type": "stream",
     "text": [
      "Pearson correlation: 0.6757341092113641\n"
     ]
    }
   ],
   "source": [
    "#iv.\n",
    "corr = df['total_bill'].corr(df['tip'],'pearson')\n",
    "print('Pearson correlation:',corr)"
   ]
  },
  {
   "cell_type": "code",
   "execution_count": 32,
   "id": "4a9a0b83-c111-4c07-8a1f-c825176dd77a",
   "metadata": {},
   "outputs": [
    {
     "data": {
      "image/png": "[encoded data removed]",
      "text/plain": [
       "<Figure size 1000x600 with 1 Axes>"
      ]
     },
     "metadata": {},
     "output_type": "display_data"
    }
   ],
   "source": [
    "#v.\n",
    "plt.figure(figsize = (10,6))\n",
    "plt.scatter(df['total_bill'],df['tip'])\n",
    "plt.title(\"Correlation between total_bill & tip\")\n",
    "plt.xlabel(\"total_bill\")\n",
    "plt.ylabel(\"tip\")\n",
    "plt.show()"
   ]
  },
  {
   "cell_type": "markdown",
   "id": "f552fce4-ed75-4cf8-bbd4-135df8c98c7c",
   "metadata": {},
   "source": [
    "QUESTION-8"
   ]
  },
  {
   "cell_type": "code",
   "execution_count": 33,
   "id": "e8960bbe-9e86-409c-91a4-330101e0ca8b",
   "metadata": {},
   "outputs": [
    {
     "data": {
      "text/plain": [
       "19.78594262295082"
      ]
     },
     "execution_count": 33,
     "metadata": {},
     "output_type": "execute_result"
    }
   ],
   "source": [
    "np.mean(df['total_bill'])"
   ]
  },
  {
   "cell_type": "code",
   "execution_count": 34,
   "id": "136bc478-bd66-4fcf-ac41-237e186e6bfa",
   "metadata": {},
   "outputs": [
    {
     "name": "stdout",
     "output_type": "stream",
     "text": [
      "pdf value: [0.04273534 0.02551619 0.04448074 0.04079208 0.0387971  0.03706359\n",
      " 0.02081771 0.03264661 0.03893374 0.03831338 0.02530254 0.00985209\n",
      " 0.03979717 0.04438496 0.03843447 0.04399862 0.02548566 0.04155947\n",
      " 0.04270497 0.04469306 0.04392534 0.04483273 0.0405437  0.00390586\n",
      " 0.04490461 0.04380791 0.03459735 0.03264108 0.04387477 0.04489969\n",
      " 0.02312269 0.04432221 0.03898049 0.04467304 0.04377477 0.03999783\n",
      " 0.0415962  0.04264364 0.04456457 0.01947403 0.04108554 0.04339205\n",
      " 0.0361636  0.0235133  0.02199625 0.04427284 0.04323745 0.01638846\n",
      " 0.02760437 0.04404612 0.03219926 0.02536356 0.01074698 0.02429884\n",
      " 0.03635547 0.04488004 0.00547741 0.03400764 0.02827257 0.00026311\n",
      " 0.04483273 0.03581323 0.02759859 0.04427284 0.04355394 0.04488035\n",
      " 0.04184826 0.00764796 0.04484889 0.03886335 0.0306457  0.04285489\n",
      " 0.03270527 0.03708942 0.03819147 0.02603587 0.04392534 0.03170045\n",
      " 0.04245802 0.0431673  0.04487091 0.04220955 0.02469346 0.01566348\n",
      " 0.04096778 0.01070612 0.0336296  0.04426442 0.03851125 0.04437106\n",
      " 0.02631714 0.04287238 0.01289099 0.0416145  0.04247399 0.00322956\n",
      " 0.03146184 0.03067585 0.04448074 0.03196235 0.02860912 0.03970881\n",
      " 0.00099768 0.04297398 0.04454058 0.03966441 0.04476416 0.03726943\n",
      " 0.0442302  0.03713614 0.03632384 0.0165937  0.00540193 0.04023371\n",
      " 0.03595359 0.0431945  0.02339862 0.02646451 0.03187329 0.03995443\n",
      " 0.02964617 0.0347377  0.03700695 0.04090833 0.03202166 0.0237903\n",
      " 0.0200959  0.03767063 0.02870084 0.04236117 0.0447634  0.04483834\n",
      " 0.02805822 0.03136654 0.04424742 0.02006723 0.02548566 0.03672023\n",
      " 0.04100721 0.03400226 0.04340481 0.01182311 0.00246533 0.03214569\n",
      " 0.04181279 0.01961055 0.04453294 0.03019242 0.0238148  0.01728588\n",
      " 0.03650958 0.03391654 0.04312612 0.03889128 0.04490487 0.02363948\n",
      " 0.00027276 0.03780062 0.03465355 0.04191864 0.04407691 0.03255298\n",
      " 0.04141079 0.03581323 0.04345534 0.03896154 0.04463585 0.01824398\n",
      " 0.02628075 0.02640325 0.00010099 0.04062588 0.0165937  0.01785995\n",
      " 0.04247099 0.0151059  0.04389395 0.03756985 0.02327274 0.01111931\n",
      " 0.01107753 0.04147039 0.00071503 0.04176263 0.00292499 0.04467304\n",
      " 0.04455327 0.02181899 0.04415004 0.04188686 0.04037736 0.04490478\n",
      " 0.02794147 0.03992857 0.04207432 0.01742055 0.02551619 0.0014309\n",
      " 0.03354316 0.03498898 0.04457683 0.03278762 0.03354316 0.04175925\n",
      " 0.04474773 0.04188354 0.03349089 0.00462328 0.03953451 0.03284613\n",
      " 0.02300846 0.03546383 0.00025746 0.03431508 0.02876772 0.0332539\n",
      " 0.02882883 0.02934177 0.01790943 0.02276918 0.03106691 0.0347377\n",
      " 0.02026829 0.04096778 0.0347377  0.04152257 0.02475427 0.04477968\n",
      " 0.0343434  0.04338165 0.04010563 0.04037736 0.0294027  0.02683222\n",
      " 0.040037   0.02469346 0.03237637 0.01528214 0.0087923  0.02613345\n",
      " 0.03175998 0.04260006 0.04381885 0.04461801]\n"
     ]
    }
   ],
   "source": [
    "x = df['total_bill']\n",
    "mean = np.mean(df['total_bill'])\n",
    "std = np.std(df['total_bill'])\n",
    "pdf = stats.norm.pdf(x,mean,std)\n",
    "print(\"pdf value:\",pdf)"
   ]
  },
  {
   "cell_type": "markdown",
   "id": "76c8ddf2-95c2-4e59-a29a-68ea16fa3792",
   "metadata": {},
   "source": [
    "QUESTION-10"
   ]
  },
  {
   "cell_type": "code",
   "execution_count": 35,
   "id": "9ce7fadc-ebca-481a-9223-9c94fa51acac",
   "metadata": {},
   "outputs": [
    {
     "name": "stdout",
     "output_type": "stream",
     "text": [
      "Probability: 0.005292476676420117\n"
     ]
    }
   ],
   "source": [
    "from scipy.stats import poisson\n",
    "\n",
    "rate_events = 4\n",
    "number_events = 10\n",
    "probability = poisson.pmf(number_events,rate_events)\n",
    "print(\"Probability:\",probability)"
   ]
  },
  {
   "cell_type": "markdown",
   "id": "4351dd4c-b5c7-4d79-a785-6f90e70bf2d4",
   "metadata": {},
   "source": [
    "QUESTION-11"
   ]
  },
  {
   "cell_type": "code",
   "execution_count": 36,
   "id": "9336b09d-72d1-4b03-9647-b1b0f45810f5",
   "metadata": {},
   "outputs": [
    {
     "name": "stdout",
     "output_type": "stream",
     "text": [
      "[ 6.97385515e-01  3.59457541e-01 -3.27954375e-01  2.76407053e-01\n",
      "  1.09449128e+00 -4.13020766e-01 -1.69453391e-01  6.16725647e-01\n",
      "  1.09692388e+00  6.02590715e-02  1.45629761e+00  2.02735016e-01\n",
      "  1.04451960e+00  1.11535050e+00 -1.11656096e+00  2.02116416e+00\n",
      " -2.19626186e+00 -1.04639090e+00  7.24602580e-01 -3.06836912e-02\n",
      "  3.61631847e-01  7.66886171e-01  1.16219644e+00  9.67419092e-01\n",
      "  1.00923349e+00  1.05702231e-01 -3.27671402e-01  9.18193358e-01\n",
      " -8.78726562e-01  1.05985525e+00 -1.84595221e+00 -1.87365468e+00\n",
      " -9.84846108e-01  3.99358524e-02 -9.04692503e-01  5.90391349e-01\n",
      "  2.64953154e-01  2.09508426e+00 -1.23553387e+00 -5.96152408e-01\n",
      " -2.59946488e-01  4.35563504e-01 -2.32144715e-02  6.47519287e-01\n",
      "  1.72534414e+00  8.04947751e-01  9.76395400e-01 -5.17449879e-01\n",
      "  8.46379271e-01 -6.14818292e-01 -1.25735527e-01 -7.07479262e-01\n",
      "  1.89764903e-01  7.40751896e-01  3.27800640e-01  8.85198759e-02\n",
      "  8.36849306e-01 -1.52428749e+00  5.64095477e-01 -5.73902770e-01\n",
      "  8.71345084e-01  4.91998351e-01 -4.53059793e-01  1.85320544e+00\n",
      " -1.34296538e-01 -8.32943002e-01  8.03398969e-02  7.60117713e-01\n",
      " -6.36349468e-01 -1.92984893e-01  1.41828858e+00 -9.85526002e-02\n",
      " -3.13757876e-01  1.21161153e+00  2.49013915e-01  1.46372284e+00\n",
      " -5.30655453e-01 -1.92224992e+00  8.31742145e-01  6.49137868e-02\n",
      " -1.09949825e-01 -7.60104783e-01 -2.34268862e-01 -1.13518038e+00\n",
      " -7.27875895e-01  7.33155161e-01 -2.56237538e+00  3.38954099e-01\n",
      "  1.76892668e+00 -5.09769450e-01 -9.98785915e-02  1.98306915e+00\n",
      "  3.13744348e-01  9.25313165e-01 -2.33580406e-01  5.69987053e-01\n",
      " -2.94580673e-01 -2.99268110e+00  7.35248961e-02  6.68430418e-01\n",
      " -7.85401393e-01  4.26146905e-01 -1.03950094e+00 -5.89253751e-01\n",
      "  4.58100336e-01 -2.67883230e-01  1.42022156e+00 -1.43151201e+00\n",
      "  4.75065771e-01  1.02042464e+00  6.68092399e-01  1.39241519e+00\n",
      "  2.37667119e+00 -1.49353855e+00  1.25251539e-01  6.43521838e-01\n",
      "  5.41671950e-01  4.93998491e-01  1.62226876e+00  1.09800436e+00\n",
      " -6.63204242e-01  1.33842907e+00  1.92236832e+00 -1.03405754e+00\n",
      " -4.97730719e-01 -1.51385689e-02 -1.10077675e+00 -3.40237283e-01\n",
      "  5.99224970e-01  9.17950280e-01 -5.62928909e-01  1.00803980e+00\n",
      "  1.02860492e+00 -3.15701091e-01 -4.52822953e-01  7.12582435e-01\n",
      " -7.85701809e-01 -4.79861150e-01 -2.26881043e-01 -8.47587830e-01\n",
      "  1.61716421e+00 -1.03907477e+00 -1.93720096e-01 -3.16096561e-01\n",
      "  2.62282391e-01  7.75075885e-01 -2.25594433e-01 -3.16794223e-01\n",
      "  6.63092096e-01 -1.15960905e+00 -5.44135122e-01 -1.03935577e+00\n",
      "  6.44581410e-01 -6.61658258e-01 -6.13480448e-01 -2.46379724e+00\n",
      "  2.57100629e-01  1.00073225e+00  1.43289098e-01 -1.98904353e+00\n",
      " -1.68276072e-01 -1.03298366e+00  1.76115884e+00  1.73191408e+00\n",
      " -8.58893375e-01  4.71085715e-01 -7.86165402e-01 -2.49057787e+00\n",
      "  2.25484150e+00 -3.92091110e-01  1.38885220e+00 -2.21119652e-01\n",
      " -2.82120313e+00  1.42219408e+00  3.05518985e-01 -7.01836486e-01\n",
      " -4.18214110e-01  6.55967988e-01  3.51981973e-02  4.51481496e-01\n",
      " -1.83232616e+00  9.93045922e-01 -9.75343095e-01 -6.79682817e-01\n",
      " -9.82761243e-01  1.12078889e-01 -2.30402167e+00  1.90175067e+00\n",
      " -3.26775763e-01 -8.43132024e-02  9.51821638e-01  1.62441492e-02\n",
      "  1.51471247e-01 -3.57395395e-01  7.26115754e-02 -1.79996036e+00\n",
      " -1.08839971e+00  8.87235859e-01  1.31907442e-01  1.65767482e+00\n",
      " -1.12275697e+00 -1.90291074e+00 -1.30770935e-01 -7.53431115e-01\n",
      " -1.25674962e+00  1.00302114e-03 -3.27280598e-01 -1.35024651e+00\n",
      " -2.94450998e-01 -1.34100349e+00  5.05148021e-01 -5.85456601e-01\n",
      " -8.05667400e-01  1.01878580e+00 -3.01146352e-01  8.40971305e-01\n",
      " -1.24979589e+00 -1.94215995e+00  1.06360449e+00 -5.71960369e-01\n",
      " -1.36051667e+00 -2.80151406e-01 -5.68701427e-01  6.63781200e-02\n",
      " -1.58387574e+00 -2.09392344e+00 -4.54222735e-01  1.60832040e-01\n",
      " -1.34846095e+00 -6.10659158e-01  1.05451904e+00 -3.20147993e-01\n",
      "  7.54264548e-01 -1.66001193e+00  1.28056505e+00  1.94530048e+00\n",
      "  4.80013591e-01  1.19620633e-01  1.95558407e-01 -5.84391383e-01\n",
      "  2.07013620e-01 -6.29055707e-01  9.96569655e-01  1.59780053e-01\n",
      " -6.12407077e-01 -1.06525502e+00 -1.40086967e+00  4.83264681e-01\n",
      "  1.70388806e-01 -1.09223482e-01  9.81857367e-01 -5.58838321e-01\n",
      "  1.96096528e+00  2.58323844e-01  4.70291871e-01  1.08962830e+00\n",
      "  9.53843194e-01 -1.03978936e+00  1.21942972e+00 -1.41468370e+00\n",
      "  1.00284669e-01 -2.76930600e-01 -5.69819342e-01 -1.34487059e+00\n",
      " -6.19586351e-02  1.53392426e+00 -9.92913801e-01 -1.69085341e+00\n",
      "  2.01879693e-01 -1.03701042e+00 -1.12180524e+00  5.45193729e-01\n",
      " -7.42145400e-01 -2.74109060e-02 -1.26371552e-02  3.43948372e-01\n",
      " -8.86711787e-01  1.40852905e-01  1.12531223e-01  6.68044369e-03\n",
      "  9.32507764e-01 -1.91547076e+00  8.23992310e-01  9.71260841e-01\n",
      " -1.84820211e+00 -3.52465388e-01  1.11980861e+00 -9.23460581e-01\n",
      " -1.12905194e+00  2.16457477e-02 -1.36291864e+00 -3.99142480e-01\n",
      "  1.32165963e+00 -2.02351179e+00 -1.30053568e-01  1.65495326e+00\n",
      " -2.19337551e-01 -1.36256536e+00  1.81754308e-01 -7.53339777e-01\n",
      "  5.71820407e-01 -2.25558633e+00 -7.44331843e-01  1.06616941e+00\n",
      "  1.79466156e-01  9.51632922e-01  2.07945168e+00 -7.90143499e-01\n",
      " -1.79221698e+00  1.73974184e+00 -1.14002214e+00  1.12882862e-01\n",
      " -5.44896475e-01 -3.70207209e-01 -7.89711033e-01  2.52719078e-01\n",
      " -8.58725577e-02 -1.94730859e+00  6.77234521e-01 -4.31348214e-01\n",
      " -2.06253905e-01 -4.18734307e-01  4.34220059e-01 -6.23666041e-01\n",
      "  1.02091868e+00 -1.39444950e+00  8.47204786e-02  9.32291363e-01\n",
      "  2.14101214e-01 -1.09121229e+00 -7.69952255e-01  8.75505051e-01\n",
      "  4.06354588e-01  8.56882782e-01  8.71474615e-01 -5.16130216e-01\n",
      " -1.22190040e-01 -1.00351522e-02 -2.60597834e-01 -4.93213684e-01\n",
      "  1.86425414e-01  1.48664793e-01  6.01989540e-01  5.24598793e-01\n",
      "  6.80125123e-01 -1.65045260e+00 -8.76773838e-01  4.40990933e-01\n",
      "  8.13017119e-01 -2.15602020e+00  1.88999549e+00  1.22015717e+00\n",
      "  6.22041367e-01 -2.20985917e+00 -2.66566474e-01  8.78161695e-02\n",
      "  1.11233872e-01  1.07146945e+00 -1.28587428e+00 -2.04911336e-01\n",
      "  5.55155178e-01  1.06059235e+00 -1.24400939e-01 -7.20897528e-02\n",
      " -1.14824575e+00 -8.73622198e-01  3.48217822e-01  1.11228051e-01\n",
      "  3.51191541e-01  1.11762385e+00 -5.63813621e-01  1.10656208e+00\n",
      "  2.29017980e-01 -7.72628437e-01 -4.52935742e-01  1.15600060e+00\n",
      " -6.22762656e-01  1.92128988e+00  7.91707392e-01 -7.63929364e-01\n",
      "  1.62736922e-01 -2.67350594e-01  1.01749368e+00 -5.21529395e-01\n",
      " -3.49380088e-01  3.58044487e-01  4.67776146e-01  2.75987253e-01\n",
      " -1.68627394e+00 -1.13758890e+00  1.75316581e-02 -2.78932791e+00\n",
      " -1.20312671e-01 -1.56206950e+00 -1.29667088e+00  1.69260226e+00\n",
      "  6.38614150e-01  2.60560030e-01 -1.31550995e+00  7.20786509e-01\n",
      " -2.15029229e-01  9.51724785e-01 -6.80535936e-01  7.97763315e-01\n",
      "  3.66240913e-01 -1.43033009e+00 -1.33141034e-01 -7.91482915e-01\n",
      "  1.30478984e+00 -1.28799251e+00 -1.39749580e+00  1.29656097e+00\n",
      " -5.22855343e-01 -9.12324857e-01  2.19034592e-01  2.75992270e-01\n",
      " -3.68821436e-01  1.07987316e+00  1.03489116e+00 -6.94881381e-01\n",
      "  1.05351553e+00 -7.28907501e-01  1.12712746e-01 -8.38750939e-01\n",
      "  9.20936177e-02 -6.31149320e-01  1.16176499e-01 -1.04274334e+00\n",
      "  1.76427795e-02 -1.01602521e+00 -2.45883397e-01  7.51597239e-01\n",
      " -6.72711373e-02 -4.20215048e-01 -1.29896938e+00 -9.87138115e-02\n",
      "  6.69060992e-01 -2.11312788e+00  3.86387071e-01  4.43515797e-01\n",
      " -2.18002269e-01 -1.84398279e+00  3.06542165e+00 -4.44166054e-02\n",
      " -5.56233535e-01  6.49024438e-01  1.14954319e+00  1.13006047e-01\n",
      "  6.23290914e-01  3.89992322e-01  4.82147998e-02  1.13658001e+00\n",
      " -6.94251042e-01  1.13534813e-01  4.29995421e-01 -7.24918916e-01\n",
      " -1.61294459e+00 -5.97293197e-01  1.63433883e-01 -4.92826962e-03\n",
      "  7.28239134e-01 -9.38737813e-01  5.02157094e-01  1.34557707e+00\n",
      "  1.37814215e-01  7.73636372e-01  1.46707971e-01  4.81503330e-02\n",
      "  4.59436663e-01  6.50013457e-02  9.13117113e-01  1.84326976e+00\n",
      "  7.32897692e-01 -7.89350205e-02  7.48138102e-01 -6.20696812e-01\n",
      "  8.16172463e-01  3.38488714e-02 -1.67305182e+00  2.15750847e-01\n",
      " -6.13834748e-01 -5.97864133e-01 -2.62018772e-01  5.31865887e-01\n",
      " -3.43304490e-01  8.59374113e-01 -6.16291276e-01 -4.45791214e-02\n",
      "  3.55595431e-01 -4.21335529e-01  1.02116975e+00  1.34532702e-01\n",
      " -3.72508243e-01 -1.17483118e+00  9.78028892e-01 -3.35826898e-01\n",
      "  5.03276571e-01  1.46550107e-01 -1.69184641e+00 -9.13934776e-01\n",
      "  8.98422492e-01  3.01114886e-01  2.28255115e-01  3.52140063e-02\n",
      "  7.70452249e-01 -2.52793476e-01  1.64005433e-02  1.53712184e+00\n",
      "  1.10168367e+00  5.35130872e-01 -1.59608464e+00 -5.68571992e-02\n",
      " -1.50671197e+00 -6.92014395e-01 -6.31825325e-01 -1.21527967e-02\n",
      "  8.28181709e-01 -3.27526092e+00  2.19949674e+00 -9.43002431e-03\n",
      " -8.35606419e-01 -8.51057224e-01 -1.25619640e+00 -2.64942462e-01\n",
      " -1.03797758e+00  4.15846312e-01  2.88322138e-01 -1.43798234e+00\n",
      " -1.39450396e+00  3.07226916e-01 -5.88936165e-01 -3.32640288e-01\n",
      "  1.44959963e+00  7.34983369e-01  8.47153106e-01  1.78609839e+00\n",
      "  1.40745104e+00 -1.14850311e-01 -8.46132821e-01  1.39540377e+00\n",
      " -8.97924503e-01  8.81461523e-01  1.02306598e+00  5.10338399e-01\n",
      " -3.43753158e-03 -4.43248696e-01  1.08713607e+00 -6.06995836e-01\n",
      "  1.50713549e+00 -1.73057532e+00 -1.35338184e-01  8.97861890e-01\n",
      "  1.56971099e-01  1.80654511e+00 -1.75867979e+00  2.16136387e+00\n",
      "  1.21981446e-01 -6.97615948e-01  6.32344297e-01 -3.08005655e-01\n",
      " -8.95068448e-01  6.26197634e-01 -3.20471377e-01 -1.08444485e+00\n",
      " -1.50502189e+00  2.43437546e-01 -5.31168417e-01 -1.50993311e+00\n",
      "  1.39107765e+00  1.00086320e+00  7.14668770e-01  6.24262494e-01\n",
      " -1.96834515e+00 -2.54886040e-01  9.68045690e-01  5.98506808e-01\n",
      "  1.43186364e+00  4.92325676e-01  1.37669370e+00 -9.90708235e-01\n",
      "  2.34973164e+00  9.54265266e-01  4.86022963e-01  1.07389812e-01\n",
      "  1.22096924e+00 -1.40727349e+00  3.48901806e-01 -1.13047875e+00\n",
      " -9.71021683e-01  5.32794536e-01  6.52824721e-01 -3.29924579e-01\n",
      " -3.59543126e-01  3.06381939e-01  1.81182991e+00 -1.02400898e+00\n",
      " -3.66633710e-01  5.74016969e-01  1.12854235e+00 -3.85683902e-01\n",
      "  1.37495074e+00  8.90422797e-02 -2.71820211e-01  2.90861902e-03\n",
      "  4.04285381e-01 -7.34423925e-01  8.85921114e-01 -1.48189883e+00\n",
      "  1.02388881e+00 -3.67980153e-01 -5.58813017e-01 -2.35646888e-01\n",
      " -7.20854351e-01 -3.40625602e-01 -4.29697800e-01 -2.07338775e-01\n",
      "  2.29353657e+00 -5.42728316e-01  7.79312669e-01  4.13466069e-01\n",
      "  5.34273897e-01 -6.92798879e-02 -7.17325398e-01  4.44775410e-01\n",
      "  1.97172982e+00  1.64615289e+00  5.67934088e-01  1.22253618e+00\n",
      "  6.81604846e-02  1.64656943e-01 -2.72144885e+00 -8.49953779e-01\n",
      "  2.14703537e+00 -5.13172134e-01 -8.27582231e-01 -5.92418786e-01\n",
      " -1.47222631e+00 -9.51166913e-01 -8.02962633e-01 -1.19572907e+00\n",
      " -3.14374342e-01  3.88127413e-01 -5.76110025e-01 -1.18774070e+00\n",
      " -8.32918605e-01  6.61370399e-01 -7.51545343e-01 -1.15714460e-01\n",
      " -3.96747102e-01  1.82900854e+00 -2.79612008e+00  1.01577386e+00\n",
      " -5.82999840e-01  4.70746060e-02  1.04412011e+00 -1.76764380e-01\n",
      " -2.13182054e+00  1.39581212e+00  4.65151783e-01 -1.25469849e+00\n",
      "  3.72778105e-01 -3.23149068e-01 -5.38267985e-01 -1.60415685e+00\n",
      "  8.08792562e-01 -1.33736930e+00  7.26168820e-01 -9.93379668e-01\n",
      "  3.65165203e-01 -1.23787282e+00 -5.01149355e-02  7.96490486e-01\n",
      " -4.36254615e-01 -2.58105761e-01 -5.50338513e-01 -1.17047527e-01\n",
      "  1.29085395e+00  3.25291351e-01 -2.04472728e-01 -1.51635173e+00\n",
      "  1.27051694e+00 -6.94330756e-03 -9.40348323e-01 -2.78794036e+00\n",
      " -7.82222961e-02  1.51485815e+00  3.59521879e-01  9.46467376e-01\n",
      "  5.54066143e-01 -7.44961296e-01 -2.26231376e+00 -2.80997930e-01\n",
      "  2.63659843e-01  6.09256387e-01 -8.30687883e-01  1.50129379e+00\n",
      " -3.87361893e-01  4.84395037e-01  9.01912703e-02  5.96379477e-01\n",
      "  1.17942759e-01  7.09076158e-02 -1.47549289e+00 -1.60628719e+00\n",
      "  1.61253822e+00  4.58113789e-02 -1.60273386e+00 -9.62571597e-01\n",
      "  1.42120772e+00 -7.34198910e-01  2.01628635e+00 -2.46122502e+00\n",
      " -9.33971800e-01 -4.85081066e-01 -1.51591767e+00 -2.03608705e+00\n",
      " -1.49889450e+00  4.20703829e-01  4.78215172e-01 -5.12594295e-01\n",
      "  4.62546376e-01  1.79761025e+00 -1.49532816e+00  1.69569351e+00\n",
      " -2.81921590e-01 -5.25805404e-01 -6.44821955e-01  4.20694522e-01\n",
      " -2.38747291e-01  7.93559671e-02  6.72329365e-01  3.57012343e-01\n",
      " -1.01203868e+00  4.63334924e-01  1.62852065e+00  8.84003149e-01\n",
      " -1.80821177e+00  1.24803734e+00 -1.72798879e+00  6.48021761e-01\n",
      " -1.40570354e+00  2.18603460e-02 -1.12751157e+00  3.96349157e-01\n",
      "  8.70774045e-01  2.82058397e+00 -5.87938652e-01  1.62988423e+00\n",
      "  1.80072372e-01  4.12187766e-01 -1.60086663e+00 -4.20478395e-01\n",
      "  9.82617084e-01 -8.73519827e-01  1.35565553e+00 -8.22910184e-01\n",
      "  1.22373274e+00  7.83885729e-01  2.33334845e-01 -4.72297432e-01\n",
      " -6.09386132e-01  7.37981827e-01 -2.28457128e-01 -3.33731665e-01\n",
      " -9.83539071e-02  1.40763994e+00  8.38361044e-01 -5.91922234e-01\n",
      "  1.40107211e+00  1.69306922e+00 -1.35987070e+00  8.38003777e-01\n",
      "  6.83316234e-02  7.86441741e-02 -8.16202731e-01 -1.15560423e+00\n",
      "  3.04582338e-01 -8.51234606e-01 -8.25838396e-02 -1.08993427e+00\n",
      "  9.44912461e-01 -1.61763951e+00 -1.03907447e+00 -2.59729071e-01\n",
      " -2.84962287e-01 -2.27205850e+00  1.10998573e+00 -1.28506803e+00\n",
      "  1.61448109e-01 -2.49442078e-01  7.74693248e-01  2.40690594e-01\n",
      "  3.54934154e-01 -2.32706917e+00 -1.70376946e+00  1.78188735e-02\n",
      " -6.79481093e-01 -1.38600781e+00 -4.21681152e-01  1.49263320e-01\n",
      "  3.15287234e-01  1.58108772e-01 -1.35416565e+00 -2.07640892e+00\n",
      "  1.23663732e-01 -3.71994152e-01 -1.62113913e+00 -2.90158264e-01\n",
      " -5.07018662e-01  9.08153094e-01 -7.31607493e-02  1.20331862e+00\n",
      "  2.60722511e+00 -1.40450387e+00  1.00254096e+00  1.01514376e+00\n",
      " -6.26857058e-02  1.86981306e-01 -6.40777855e-01  8.17292549e-01\n",
      "  9.00871614e-01  5.90366018e-01 -3.35357862e-01 -7.82605547e-02\n",
      " -5.01106521e-01  5.82234647e-01  7.15318740e-01  5.23385925e-01\n",
      " -1.70966934e+00 -2.47523807e+00  1.56457268e+00 -7.26511477e-01\n",
      "  8.02890167e-01 -1.44283191e+00  7.97182245e-01 -1.67088650e-01\n",
      " -6.76979683e-01 -2.55932796e-01 -8.41906213e-01  6.67652196e-01\n",
      " -4.36506115e-01 -4.52589880e-01  1.06523507e+00 -4.25864592e-01\n",
      " -1.27359507e+00  4.24091251e-01 -1.97308600e-01 -1.24937831e+00\n",
      "  8.90927778e-01 -2.90282296e-01  5.28013254e-01 -1.70705166e+00\n",
      " -1.37428271e-01 -5.13209206e-01 -7.07872659e-01 -2.09829427e+00\n",
      " -1.23088371e+00 -3.50771279e-01 -7.11876973e-01  4.90200446e-01\n",
      " -1.38585299e+00  1.86879797e+00  1.67404164e+00 -7.23815609e-01\n",
      "  2.60436121e-01 -1.87415466e+00 -3.05757641e-01  1.38519991e+00\n",
      "  1.47016547e-01  4.88953693e-01  1.25414785e+00 -2.16012918e-01\n",
      "  2.49430586e-01  1.65717281e+00 -1.77944395e+00  1.12250606e+00\n",
      "  1.20983675e+00 -2.04309541e+00 -7.96056209e-01  2.77646013e-02\n",
      " -7.95474423e-02 -7.61282948e-01  1.22339680e+00 -1.34672103e+00\n",
      " -1.79335308e+00  1.75038998e+00 -1.88732918e+00 -3.36406017e-01\n",
      " -8.80627831e-01  2.02199439e+00  1.19508042e+00 -2.19734988e+00\n",
      "  6.38434781e-01  1.77753548e-01  6.24069796e-01  8.85812176e-01\n",
      "  9.77940382e-01  1.70876044e+00  1.01161359e+00 -4.29598984e-01\n",
      " -9.95621626e-03 -1.39515976e+00 -1.04139392e+00  2.26644024e+00\n",
      "  7.69883258e-01  9.34886156e-01 -1.07139836e+00  3.26875536e-01\n",
      " -4.33680065e-01  4.95734717e-01  9.29869681e-02  1.12570058e+00\n",
      "  7.68594693e-01  1.30805292e+00 -7.57318675e-02  5.07492245e-01\n",
      "  5.21406500e-01  6.52635445e-01  4.52648663e-01 -3.77786664e-01\n",
      "  1.27766352e+00  1.55757016e+00 -6.06025193e-01  8.02132758e-01\n",
      " -2.07305025e-01  6.71903144e-01  4.28091036e-01  1.38063377e+00\n",
      " -1.65253570e+00  1.32659036e+00 -2.23485928e+00  1.47927653e+00\n",
      " -1.83001553e-01 -4.46345558e-01 -1.99071220e+00  1.43045908e+00\n",
      " -3.61324910e-01 -1.16036719e+00  1.37787839e+00 -9.86825438e-01\n",
      " -8.21695969e-01 -5.98987916e-01  1.60213124e-01  6.06917958e-01\n",
      " -7.26682801e-01 -8.65910737e-01  2.49805421e+00 -3.71885994e-01\n",
      " -3.29983615e-01 -4.66895532e-01  4.53411619e-01  5.41315821e-01\n",
      " -2.68750141e-01 -4.05925205e-01 -5.63104269e-01  2.17467798e-01\n",
      " -3.39546163e-01  3.88621987e-01 -6.44508232e-02 -5.10074100e-01\n",
      "  5.64757189e-01  6.16014836e-01  3.92434079e-01  1.31833301e+00\n",
      "  7.10179584e-01 -8.90842034e-01 -4.84025623e-01  1.28690096e+00\n",
      " -1.11282388e+00 -4.62786794e-01  1.82966514e+00 -1.26717031e-01\n",
      "  4.28977050e-02 -3.59503205e-01  3.46532179e-01 -3.97868132e-01\n",
      " -2.94784028e-01  8.06807791e-02  1.58792033e+00  8.99339193e-01\n",
      " -1.41126176e+00  1.04044264e+00 -1.32361002e+00 -5.94210109e-01\n",
      "  9.18772107e-01  6.15704285e-01  6.11044937e-01  2.32929793e-01\n",
      "  7.62765813e-01  1.41749041e-01 -7.62156388e-01 -5.52772934e-01\n",
      "  7.70837154e-01  5.28844297e-01  9.75273362e-01 -5.34134708e-01\n",
      " -6.94690522e-01  6.28463689e-01 -8.05847322e-01  2.17651872e-01]\n",
      "[1 1 1 1 1 1 1 1 1 1 1 1 1 1 1 1 1 1 1 1 1 1 1 1 1 1 1 1 1 1 1 1 1 1 1 1 1\n",
      " 1 1 1 1 1 1 1 1 1 1 1 1 1 0 0 0 0 0 0 0 0 0 0 0 0 0 0 0 0 0 0 0 0 0 0 0 0\n",
      " 0 0 0 0 0 0 0 0 0 0 0 0 0 0 0 0 0 0 0 0 0 0 0 0 0 0 0 0 0 0 0 0 0 0 0 0 0\n",
      " 0 0 0 0 0 0 0 0 0 0 0 0 0 0 0 0 0 0 0 0 0 0 0 0 0 0 0 0 0 0 0 0 0 0 0 0 0\n",
      " 0 0 0 0 0 0 0 0 0 0 0 0 0 0 0 0 0 0 0 0 0 0 0 0 0 0 0 0 0 0 0 0 0 0 0 0 0\n",
      " 0 0 0 0 0 0 0 0 0 0 0 0 0 0 0 0 0 0 0 0 0 0 0 0 0 0 0 0 0 0 0 0 0 0 0 0 0\n",
      " 0 0 0 0 0 0 0 0 0 0 0 0 0 0 0 0 0 0 0 0 0 0 0 0 0 0 0 0 0 0 0 0 0 0 0 0 0\n",
      " 0 0 0 0 0 0 0 0 0 0 0 0 0 0 0 0 0 0 0 0 0 0 0 0 0 0 0 0 0 0 0 0 0 0 0 0 0\n",
      " 0 0 0 0 0 0 0 0 0 0 0 0 0 0 0 0 0 0 0 0 0 0 0 0 0 0 0 0 0 0 0 0 0 0 0 0 0\n",
      " 0 0 0 0 0 0 0 0 0 0 0 0 0 0 0 0 0 0 0 0 0 0 0 0 0 0 0 0 0 0 0 0 0 0 0 0 0\n",
      " 0 0 0 0 0 0 0 0 0 0 0 0 0 0 0 0 0 0 0 0 0 0 0 0 0 0 0 0 0 0 0 0 0 0 0 0 0\n",
      " 0 0 0 0 0 0 0 0 0 0 0 0 0 0 0 0 0 0 0 0 0 0 0 0 0 0 0 0 0 0 0 0 0 0 0 0 0\n",
      " 0 0 0 0 0 0 0 0 0 0 0 0 0 0 0 0 0 0 0 0 0 0 0 0 0 0 0 0 0 0 0 0 0 0 0 0 0\n",
      " 0 0 0 0 0 0 0 0 0 0 0 0 0 0 0 0 0 0 0 0 0 0 0 0 0 0 0 0 0 0 0 0 0 0 0 0 0\n",
      " 0 0 0 0 0 0 0 0 0 0 0 0 0 0 0 0 0 0 0 0 0 0 0 0 0 0 0 0 0 0 0 0 0 0 0 0 0\n",
      " 0 0 0 0 0 0 0 0 0 0 0 0 0 0 0 0 0 0 0 0 0 0 0 0 0 0 0 0 0 0 0 0 0 0 0 0 0\n",
      " 0 0 0 0 0 0 0 0 0 0 0 0 0 0 0 0 0 0 0 0 0 0 0 0 0 0 0 0 0 0 0 0 0 0 0 0 0\n",
      " 0 0 0 0 0 0 0 0 0 0 0 0 0 0 0 0 0 0 0 0 0 0 0 0 0 0 0 0 0 0 0 0 0 0 0 0 0\n",
      " 0 0 0 0 0 0 0 0 0 0 0 0 0 0 0 0 0 0 0 0 0 0 0 0 0 0 0 0 0 0 0 0 0 0 0 0 0\n",
      " 0 0 0 0 0 0 0 0 0 0 0 0 0 0 0 0 0 0 0 0 0 0 0 0 0 0 0 0 0 0 0 0 0 0 0 0 0\n",
      " 0 0 0 0 0 0 0 0 0 0 0 0 0 0 0 0 0 0 0 0 0 0 0 0 0 0 0 0 0 0 0 0 0 0 0 0 0\n",
      " 0 0 0 0 0 0 0 0 0 0 0 0 0 0 0 0 0 0 0 0 0 0 0 0 0 0 0 0 0 0 0 0 0 0 0 0 0\n",
      " 0 0 0 0 0 0 0 0 0 0 0 0 0 0 0 0 0 0 0 0 0 0 0 0 0 0 0 0 0 0 0 0 0 0 0 0 0\n",
      " 0 0 0 0 0 0 0 0 0 0 0 0 0 0 0 0 0 0 0 0 0 0 0 0 0 0 0 0 0 0 0 0 0 0 0 0 0\n",
      " 0 0 0 0 0 0 0 0 0 0 0 0 0 0 0 0 0 0 0 0 0 0 0 0 0 0 0 0 0 0 0 0 0 0 0 0 0\n",
      " 0 0 0 0 0 0 0 0 0 0 0 0 0 0 0 0 0 0 0 0 0 0 0 0 0 0 0 0 0 0 0 0 0 0 0 0 0\n",
      " 0 0 0 0 0 0 0 0 0 0 0 0 0 0 0 0 0 0 0 0 0 0 0 0 0 0 0 0 0 0 0 0 0 0 0 0 0\n",
      " 0]\n",
      "[1 1 1 1 1 1 1 1 1 1 1 1 1 1 1 1 1 1 1 1 1 1 1 1 1 1 1 1 1 1 1 1 1 1 1 1 1\n",
      " 1 1 1 1 1 1 1 1 1 1 1 1 1 1 1 1 1 1 1 1 1 1 1 1 1 1 1 1 1 1 1 1 1 0 0 0 0\n",
      " 0 0 0 0 0 0 0 0 0 0 0 0 0 0 0 0 0 0 0 0 0 0 0 0 0 0 0 0 0 0 0 0 0 0 0 0 0\n",
      " 0 0 0 0 0 0 0 0 0 0 0 0 0 0 0 0 0 0 0 0 0 0 0 0 0 0 0 0 0 0 0 0 0 0 0 0 0\n",
      " 0 0 0 0 0 0 0 0 0 0 0 0 0 0 0 0 0 0 0 0 0 0 0 0 0 0 0 0 0 0 0 0 0 0 0 0 0\n",
      " 0 0 0 0 0 0 0 0 0 0 0 0 0 0 0 0 0 0 0 0 0 0 0 0 0 0 0 0 0 0 0 0 0 0 0 0 0\n",
      " 0 0 0 0 0 0 0 0 0 0 0 0 0 0 0 0 0 0 0 0 0 0 0 0 0 0 0 0 0 0 0 0 0 0 0 0 0\n",
      " 0 0 0 0 0 0 0 0 0 0 0 0 0 0 0 0 0 0 0 0 0 0 0 0 0 0 0 0 0 0 0 0 0 0 0 0 0\n",
      " 0 0 0 0 0 0 0 0 0 0 0 0 0 0 0 0 0 0 0 0 0 0 0 0 0 0 0 0 0 0 0 0 0 0 0 0 0\n",
      " 0 0 0 0 0 0 0 0 0 0 0 0 0 0 0 0 0 0 0 0 0 0 0 0 0 0 0 0 0 0 0 0 0 0 0 0 0\n",
      " 0 0 0 0 0 0 0 0 0 0 0 0 0 0 0 0 0 0 0 0 0 0 0 0 0 0 0 0 0 0 0 0 0 0 0 0 0\n",
      " 0 0 0 0 0 0 0 0 0 0 0 0 0 0 0 0 0 0 0 0 0 0 0 0 0 0 0 0 0 0 0 0 0 0 0 0 0\n",
      " 0 0 0 0 0 0 0 0 0 0 0 0 0 0 0 0 0 0 0 0 0 0 0 0 0 0 0 0 0 0 0 0 0 0 0 0 0\n",
      " 0 0 0 0 0 0 0 0 0 0 0 0 0 0 0 0 0 0 0 0 0 0 0 0 0 0 0 0 0 0 0 0 0 0 0 0 0\n",
      " 0 0 0 0 0 0 0 0 0 0 0 0 0 0 0 0 0 0 0 0 0 0 0 0 0 0 0 0 0 0 0 0 0 0 0 0 0\n",
      " 0 0 0 0 0 0 0 0 0 0 0 0 0 0 0 0 0 0 0 0 0 0 0 0 0 0 0 0 0 0 0 0 0 0 0 0 0\n",
      " 0 0 0 0 0 0 0 0 0 0 0 0 0 0 0 0 0 0 0 0 0 0 0 0 0 0 0 0 0 0 0 0 0 0 0 0 0\n",
      " 0 0 0 0 0 0 0 0 0 0 0 0 0 0 0 0 0 0 0 0 0 0 0 0 0 0 0 0 0 0 0 0 0 0 0 0 0\n",
      " 0 0 0 0 0 0 0 0 0 0 0 0 0 0 0 0 0 0 0 0 0 0 0 0 0 0 0 0 0 0 0 0 0 0 0 0 0\n",
      " 0 0 0 0 0 0 0 0 0 0 0 0 0 0 0 0 0 0 0 0 0 0 0 0 0 0 0 0 0 0 0 0 0 0 0 0 0\n",
      " 0 0 0 0 0 0 0 0 0 0 0 0 0 0 0 0 0 0 0 0 0 0 0 0 0 0 0 0 0 0 0 0 0 0 0 0 0\n",
      " 0 0 0 0 0 0 0 0 0 0 0 0 0 0 0 0 0 0 0 0 0 0 0 0 0 0 0 0 0 0 0 0 0 0 0 0 0\n",
      " 0 0 0 0 0 0 0 0 0 0 0 0 0 0 0 0 0 0 0 0 0 0 0 0 0 0 0 0 0 0 0 0 0 0 0 0 0\n",
      " 0 0 0 0 0 0 0 0 0 0 0 0 0 0 0 0 0 0 0 0 0 0 0 0 0 0 0 0 0 0 0 0 0 0 0 0 0\n",
      " 0 0 0 0 0 0 0 0 0 0 0 0 0 0 0 0 0 0 0 0 0 0 0 0 0 0 0 0 0 0 0 0 0 0 0 0 0\n",
      " 0 0 0 0 0 0 0 0 0 0 0 0 0 0 0 0 0 0 0 0 0 0 0 0 0 0 0 0 0 0 0 0 0 0 0 0 0\n",
      " 0 0 0 0 0 0 0 0 0 0 0 0 0 0 0 0 0 0 0 0 0 0 0 0 0 0 0 0 0 0 0 0 0 0 0 0 0\n",
      " 0]\n"
     ]
    }
   ],
   "source": [
    "#NULL: old layout is better\n",
    "#ALTERNATE: new layout is better\n",
    "\n",
    "visitors = np.random.randn(1000)\n",
    "old_layout = np.array([1] * 50 + [0] * 950)\n",
    "new_layout = np.array([1] * 70 + [0] * 930)\n",
    "print(visitors)\n",
    "print(old_layout)\n",
    "print(new_layout)"
   ]
  },
  {
   "cell_type": "code",
   "execution_count": 37,
   "id": "3b269804-482b-4568-bd2b-c83bd6fbf54d",
   "metadata": {},
   "outputs": [
    {
     "data": {
      "text/plain": [
       "-0.026640649796241193"
      ]
     },
     "execution_count": 37,
     "metadata": {},
     "output_type": "execute_result"
    }
   ],
   "source": [
    "np.mean(visitors)"
   ]
  },
  {
   "cell_type": "code",
   "execution_count": 38,
   "id": "63468091-78d8-40ac-8d26-401b2f96642e",
   "metadata": {},
   "outputs": [],
   "source": [
    "null_mean = np.mean(old_layout)"
   ]
  },
  {
   "cell_type": "code",
   "execution_count": 39,
   "id": "b0614915-99fe-47d0-8c74-0603dd0b563a",
   "metadata": {},
   "outputs": [
    {
     "data": {
      "text/plain": [
       "0.05"
      ]
     },
     "execution_count": 39,
     "metadata": {},
     "output_type": "execute_result"
    }
   ],
   "source": [
    "null_mean"
   ]
  },
  {
   "cell_type": "code",
   "execution_count": 40,
   "id": "5422f6f7-d05a-48c4-a838-737335e44ab6",
   "metadata": {},
   "outputs": [],
   "source": [
    "from statsmodels.stats.weightstats import ztest\n",
    "zscore,pvalue = ztest(visitors,value = null_mean, alternative = 'smaller')"
   ]
  },
  {
   "cell_type": "code",
   "execution_count": 41,
   "id": "2c6d635a-a385-4c51-91c0-d5a2c2033f9a",
   "metadata": {},
   "outputs": [
    {
     "data": {
      "text/plain": [
       "-2.3888810899958384"
      ]
     },
     "execution_count": 41,
     "metadata": {},
     "output_type": "execute_result"
    }
   ],
   "source": [
    "zscore"
   ]
  },
  {
   "cell_type": "code",
   "execution_count": 42,
   "id": "910e67a2-8939-4f5a-bf6c-1d2c5c480c98",
   "metadata": {},
   "outputs": [
    {
     "data": {
      "text/plain": [
       "0.008449885575451939"
      ]
     },
     "execution_count": 42,
     "metadata": {},
     "output_type": "execute_result"
    }
   ],
   "source": [
    "pvalue"
   ]
  },
  {
   "cell_type": "code",
   "execution_count": 43,
   "id": "42027433-2ece-41b2-a8e2-0bc83307b42a",
   "metadata": {},
   "outputs": [
    {
     "name": "stdout",
     "output_type": "stream",
     "text": [
      "Reject null hypothesis\n"
     ]
    }
   ],
   "source": [
    "if pvalue <= 0.05:\n",
    "    print('Reject null hypothesis')\n",
    "else:\n",
    "    print('Fails to reject null hypothesis')"
   ]
  },
  {
   "cell_type": "markdown",
   "id": "95febd8f-5279-48cb-8035-c03e1b9f4529",
   "metadata": {},
   "source": [
    "QUESTION-12"
   ]
  },
  {
   "cell_type": "code",
   "execution_count": 44,
   "id": "459e9452-e36f-41b3-b7b4-cd4796d934a5",
   "metadata": {},
   "outputs": [],
   "source": [
    "#null : program doesnt improve test score\n",
    "#alternate : program improves test score"
   ]
  },
  {
   "cell_type": "code",
   "execution_count": 45,
   "id": "4330b6a3-e6ad-464a-ba1b-7fbb12a09b92",
   "metadata": {},
   "outputs": [],
   "source": [
    "before_program = np.array([75, 80, 85, 70, 90, 78, 92, 88, 82, 87])\n",
    "\n",
    "after_program = np.array([80, 85, 90, 80, 92, 80, 95, 90, 85, 88])\n",
    "\n",
    "x1_mean = np.mean(before_program)\n",
    "x2_mean = np.mean(after_program)\n",
    "diff = x1_mean - x2_mean"
   ]
  },
  {
   "cell_type": "code",
   "execution_count": 46,
   "id": "6641f0e8-283d-49b1-877b-5e2a4ddb804a",
   "metadata": {},
   "outputs": [
    {
     "data": {
      "text/plain": [
       "-3.799999999999997"
      ]
     },
     "execution_count": 46,
     "metadata": {},
     "output_type": "execute_result"
    }
   ],
   "source": [
    "diff"
   ]
  },
  {
   "cell_type": "code",
   "execution_count": 47,
   "id": "c4d1b70f-1634-4d8c-b8a4-b4fa562a240d",
   "metadata": {},
   "outputs": [],
   "source": [
    "null_mean = x1_mean"
   ]
  },
  {
   "cell_type": "code",
   "execution_count": 48,
   "id": "f2848929-6bae-4332-a736-3d4c492c6579",
   "metadata": {},
   "outputs": [
    {
     "data": {
      "text/plain": [
       "82.7"
      ]
     },
     "execution_count": 48,
     "metadata": {},
     "output_type": "execute_result"
    }
   ],
   "source": [
    "null_mean"
   ]
  },
  {
   "cell_type": "code",
   "execution_count": 49,
   "id": "756ff99d-4cca-4fa1-9412-0532074f9a76",
   "metadata": {},
   "outputs": [
    {
     "data": {
      "text/plain": [
       "86.5"
      ]
     },
     "execution_count": 49,
     "metadata": {},
     "output_type": "execute_result"
    }
   ],
   "source": [
    "alternate_mean = x2_mean\n",
    "alternate_mean"
   ]
  },
  {
   "cell_type": "code",
   "execution_count": 50,
   "id": "480d2d5f-04ad-40c1-a282-e08816079965",
   "metadata": {},
   "outputs": [],
   "source": [
    "zscore,pvalue = ztest(before_program,after_program,value = diff,alternative = 'larger')"
   ]
  },
  {
   "cell_type": "code",
   "execution_count": 51,
   "id": "d892b589-d951-40e7-896f-6a922299823f",
   "metadata": {},
   "outputs": [
    {
     "data": {
      "text/plain": [
       "0.5"
      ]
     },
     "execution_count": 51,
     "metadata": {},
     "output_type": "execute_result"
    }
   ],
   "source": [
    "pvalue"
   ]
  },
  {
   "cell_type": "code",
   "execution_count": 52,
   "id": "71b8f707-f22e-4d90-99b3-f524280811d6",
   "metadata": {},
   "outputs": [
    {
     "name": "stdout",
     "output_type": "stream",
     "text": [
      "Fails to reject null hypothesis\n"
     ]
    }
   ],
   "source": [
    "if pvalue <= 0.05:\n",
    "    print('Rejects null hypothesis')\n",
    "else:\n",
    "    print('Fails to reject null hypothesis')"
   ]
  },
  {
   "cell_type": "markdown",
   "id": "906a1f73-4555-49c5-894b-49d879a05460",
   "metadata": {},
   "source": [
    "QUESTION-13"
   ]
  },
  {
   "cell_type": "code",
   "execution_count": 53,
   "id": "04d34cc0-9fd0-4b69-96b8-5ea61cc852d3",
   "metadata": {},
   "outputs": [],
   "source": [
    "#null : Not effective\n",
    "#alternate : Effective\n",
    "before_drug = np.array([145, 150, 140, 135, 155, 160, 152, 148, 130, 138])\n",
    "\n",
    "after_drug = np.array([130, 140, 132, 128, 145, 148, 138, 136, 125, 130])\n",
    "\n",
    "x1_mean = np.mean(before_drug)\n",
    "x2_mean = np.mean(after_drug)\n",
    "null_mean = x1_mean\n",
    "alternate_mean = x2_mean\n",
    "diff = x1_mean - x2_mean"
   ]
  },
  {
   "cell_type": "code",
   "execution_count": 54,
   "id": "2b3836c4-92c8-41f3-9dc0-1b663b404565",
   "metadata": {},
   "outputs": [
    {
     "data": {
      "text/plain": [
       "145.3"
      ]
     },
     "execution_count": 54,
     "metadata": {},
     "output_type": "execute_result"
    }
   ],
   "source": [
    "null_mean"
   ]
  },
  {
   "cell_type": "code",
   "execution_count": 55,
   "id": "da88dc66-9109-4b0d-82ca-537478a20bf2",
   "metadata": {},
   "outputs": [
    {
     "data": {
      "text/plain": [
       "135.2"
      ]
     },
     "execution_count": 55,
     "metadata": {},
     "output_type": "execute_result"
    }
   ],
   "source": [
    "alternate_mean"
   ]
  },
  {
   "cell_type": "code",
   "execution_count": 56,
   "id": "bd15c6b2-1aee-463f-8fb7-6466bf4d0889",
   "metadata": {},
   "outputs": [
    {
     "data": {
      "text/plain": [
       "10.100000000000023"
      ]
     },
     "execution_count": 56,
     "metadata": {},
     "output_type": "execute_result"
    }
   ],
   "source": [
    "diff"
   ]
  },
  {
   "cell_type": "code",
   "execution_count": 57,
   "id": "4ca59dae-079e-4c9a-bd5e-3d2968e1c0e6",
   "metadata": {},
   "outputs": [],
   "source": [
    "zscore,pvalue = ztest(before_drug,after_drug,value = null_mean,alternative = 'smaller')"
   ]
  },
  {
   "cell_type": "code",
   "execution_count": 58,
   "id": "2b74846a-909c-4016-90ec-43036ae56ce8",
   "metadata": {},
   "outputs": [
    {
     "data": {
      "text/plain": [
       "8.9081171704239e-274"
      ]
     },
     "execution_count": 58,
     "metadata": {},
     "output_type": "execute_result"
    }
   ],
   "source": [
    "pvalue"
   ]
  },
  {
   "cell_type": "code",
   "execution_count": 59,
   "id": "2507e0cd-9f44-4749-8539-119a6562b76c",
   "metadata": {},
   "outputs": [
    {
     "name": "stdout",
     "output_type": "stream",
     "text": [
      "Reject null hypothesis\n"
     ]
    }
   ],
   "source": [
    "if pvalue <= 0.05:\n",
    "    print(\"Reject null hypothesis\")\n",
    "else:\n",
    "    print(\"Fails to reject null hypothesis\")"
   ]
  },
  {
   "cell_type": "markdown",
   "id": "462a5d24-c5ee-47fe-abb5-50312737b69a",
   "metadata": {},
   "source": [
    "QUESTION-15"
   ]
  },
  {
   "cell_type": "code",
   "execution_count": 60,
   "id": "c2a9f09b-8174-48bb-a91c-c6edf62b3c75",
   "metadata": {},
   "outputs": [],
   "source": [
    "#null : layout a has more click though rates\n",
    "#alternate : layout b  has more click through rates\n",
    "\n",
    "layout_a_clicks = [28, 32, 33, 29, 31, 34, 30, 35, 36, 37]\n",
    "\n",
    "layout_b_clicks = [40, 41, 38, 42, 39, 44, 43, 41, 45, 47]\n",
    "\n",
    "x = np.mean(layout_a_clicks)\n",
    "y = np.mean(layout_b_clicks)\n",
    "import scipy\n",
    "from scipy.stats import stats\n",
    "\n",
    "t_statsistics,pvalue = scipy.stats.ttest_ind(layout_a_clicks,layout_b_clicks)"
   ]
  },
  {
   "cell_type": "code",
   "execution_count": 61,
   "id": "8c4412e9-b77a-4dff-8e62-53565026fd2c",
   "metadata": {},
   "outputs": [
    {
     "data": {
      "text/plain": [
       "8.833437608301987e-07"
      ]
     },
     "execution_count": 61,
     "metadata": {},
     "output_type": "execute_result"
    }
   ],
   "source": [
    "pvalue"
   ]
  },
  {
   "cell_type": "code",
   "execution_count": 62,
   "id": "cf1090fa-27d9-4bb2-a5b8-bff0cde5abb2",
   "metadata": {},
   "outputs": [
    {
     "name": "stdout",
     "output_type": "stream",
     "text": [
      "Reject null hypothesis\n"
     ]
    }
   ],
   "source": [
    "if pvalue <= 0.05:\n",
    "    print(\"Reject null hypothesis\")\n",
    "else:\n",
    "    print(\"Fails to reject null hypothesis\")"
   ]
  },
  {
   "cell_type": "code",
   "execution_count": 63,
   "id": "cc2f67d8-35c0-46f3-9b1b-915937acad30",
   "metadata": {},
   "outputs": [],
   "source": [
    "dof = (len(layout_a_clicks)-1) + (len(layout_b_clicks) - 1)"
   ]
  },
  {
   "cell_type": "code",
   "execution_count": 64,
   "id": "14d8ba14-268a-4861-a3ff-77bfc32da86c",
   "metadata": {},
   "outputs": [
    {
     "data": {
      "text/plain": [
       "18"
      ]
     },
     "execution_count": 64,
     "metadata": {},
     "output_type": "execute_result"
    }
   ],
   "source": [
    "dof"
   ]
  },
  {
   "cell_type": "markdown",
   "id": "298fe9e0-5a93-4173-870f-00894a92baff",
   "metadata": {},
   "source": [
    "QUESTION-16"
   ]
  },
  {
   "cell_type": "code",
   "execution_count": 65,
   "id": "9333f8d7-a78e-49a0-ae93-81e755c22517",
   "metadata": {},
   "outputs": [],
   "source": [
    "#NULL: existing drug is more effective\n",
    "#ALTERNATE: new drug is more effective\n",
    "\n",
    "existing_drug_levels = [180, 182, 175, 185, 178, 176, 172, 184, 179, 183]\n",
    "\n",
    "new_drug_levels = [170, 172, 165, 168, 175, 173, 170, 178, 172, 176]\n",
    "\n",
    "t_statistic,pvalue = scipy.stats.ttest_ind(existing_drug_levels,new_drug_levels)"
   ]
  },
  {
   "cell_type": "code",
   "execution_count": 66,
   "id": "ef267e63-9ae7-4c58-8a0c-713908279786",
   "metadata": {},
   "outputs": [
    {
     "data": {
      "text/plain": [
       "4.14048098620866"
      ]
     },
     "execution_count": 66,
     "metadata": {},
     "output_type": "execute_result"
    }
   ],
   "source": [
    "t_statistic"
   ]
  },
  {
   "cell_type": "code",
   "execution_count": 67,
   "id": "f9994374-6b31-45f5-863c-fa705469470a",
   "metadata": {},
   "outputs": [
    {
     "data": {
      "text/plain": [
       "0.0006143398442372505"
      ]
     },
     "execution_count": 67,
     "metadata": {},
     "output_type": "execute_result"
    }
   ],
   "source": [
    "pvalue"
   ]
  },
  {
   "cell_type": "code",
   "execution_count": 68,
   "id": "bb1f9c35-1f12-4a97-ab3e-62b5069151f1",
   "metadata": {},
   "outputs": [
    {
     "name": "stdout",
     "output_type": "stream",
     "text": [
      "Reject null hypothesis\n"
     ]
    }
   ],
   "source": [
    "if pvalue <= 0.05:\n",
    "    print(\"Reject null hypothesis\")\n",
    "else:\n",
    "    print(\"Fails to reject null hypothesis\")"
   ]
  },
  {
   "cell_type": "markdown",
   "id": "5b38e95d-4fed-4626-a429-55b9beb5e219",
   "metadata": {},
   "source": [
    "QUESTION-17"
   ]
  },
  {
   "cell_type": "code",
   "execution_count": 69,
   "id": "c236fe43-7bd2-4c25-a7a8-8e8502dc5fcf",
   "metadata": {},
   "outputs": [],
   "source": [
    "#NULL : intervention doesnt improves scores\n",
    "#ALTERNATE: intervention improves scores\n",
    "\n",
    "pre_intervention_scores = [80, 85, 90, 75, 88, 82, 92, 78, 85, 87]\n",
    "\n",
    "post_intervention_scores = [90, 92, 88, 92, 95, 91, 96, 93, 89, 93]\n",
    "\n",
    "t_statistic,pvalue = scipy.stats.ttest_ind(pre_intervention_scores,post_intervention_scores)"
   ]
  },
  {
   "cell_type": "code",
   "execution_count": 70,
   "id": "dc7465b8-0a89-44ea-8a32-344692538e64",
   "metadata": {},
   "outputs": [
    {
     "data": {
      "text/plain": [
       "0.0007022570725706455"
      ]
     },
     "execution_count": 70,
     "metadata": {},
     "output_type": "execute_result"
    }
   ],
   "source": [
    "pvalue"
   ]
  },
  {
   "cell_type": "code",
   "execution_count": 71,
   "id": "c0a36730-69d9-42a1-8f1a-2a62ade9e7ad",
   "metadata": {},
   "outputs": [
    {
     "data": {
      "text/plain": [
       "-4.080355128162116"
      ]
     },
     "execution_count": 71,
     "metadata": {},
     "output_type": "execute_result"
    }
   ],
   "source": [
    "t_statistic"
   ]
  },
  {
   "cell_type": "code",
   "execution_count": 72,
   "id": "35e63603-50db-49b2-9bed-8cc2ce77c96d",
   "metadata": {},
   "outputs": [
    {
     "name": "stdout",
     "output_type": "stream",
     "text": [
      "Rejects null hypothesis\n"
     ]
    }
   ],
   "source": [
    "if pvalue <= 0.05:\n",
    "    print(\"Rejects null hypothesis\")\n",
    "else:\n",
    "    print(\"Fails to reject null hypothesis\")"
   ]
  },
  {
   "cell_type": "markdown",
   "id": "53911583-a1e3-4b5b-98ee-9068f0946450",
   "metadata": {},
   "source": [
    "QUESTION-18"
   ]
  },
  {
   "cell_type": "markdown",
   "id": "92317f46-9db5-47bc-a2ed-1c3db094fd03",
   "metadata": {},
   "source": [
    "QUESTION-19"
   ]
  },
  {
   "cell_type": "code",
   "execution_count": 73,
   "id": "14634dbb-2f13-47e5-abe0-9d0c6bb0ca3d",
   "metadata": {},
   "outputs": [],
   "source": [
    "#NULL : there is significance difference\n",
    "#ALTERNATE : there is no significance difference\n",
    "\n",
    "version1_scores = [85, 88, 82, 89, 87, 84, 90, 88, 85, 86, 91, 83, 87, 84, 89, 86, 84, 88, 85, 86, 89, 90, 87, 88, 85]\n",
    "\n",
    "version2_scores = [80, 78, 83, 81, 79, 82, 76, 80, 78, 81, 77, 82, 80, 79, 82, 79, 80, 81, 79, 82, 79, 78, 80, 81, 82]\n",
    "\n",
    "t_stats,pvalue = scipy.stats.ttest_ind(version1_scores,version2_scores)"
   ]
  },
  {
   "cell_type": "code",
   "execution_count": 74,
   "id": "fbf773dd-aaa7-4188-87e2-82cb0ef923d2",
   "metadata": {},
   "outputs": [
    {
     "data": {
      "text/plain": [
       "11.325830417646698"
      ]
     },
     "execution_count": 74,
     "metadata": {},
     "output_type": "execute_result"
    }
   ],
   "source": [
    "t_stats"
   ]
  },
  {
   "cell_type": "code",
   "execution_count": 75,
   "id": "f71df7fb-c3f6-478d-b8fe-5cb6eb48a777",
   "metadata": {},
   "outputs": [
    {
     "data": {
      "text/plain": [
       "3.6824250702873965e-15"
      ]
     },
     "execution_count": 75,
     "metadata": {},
     "output_type": "execute_result"
    }
   ],
   "source": [
    "pvalue"
   ]
  },
  {
   "cell_type": "code",
   "execution_count": 76,
   "id": "8e6bf1dc-d9b8-4313-8574-db9f9ce951e8",
   "metadata": {},
   "outputs": [
    {
     "name": "stdout",
     "output_type": "stream",
     "text": [
      "Reject null hypothesis\n"
     ]
    }
   ],
   "source": [
    "if pvalue <= 0.05:\n",
    "    print('Reject null hypothesis')\n",
    "else:\n",
    "    print(\"Fails to reject null hypothesis\")"
   ]
  },
  {
   "cell_type": "markdown",
   "id": "860419da-6395-4b25-8155-36184e1d09df",
   "metadata": {},
   "source": [
    "QUESTION-20"
   ]
  },
  {
   "cell_type": "code",
   "execution_count": 77,
   "id": "a51af674-35ec-438d-b8e7-506fa21d5a94",
   "metadata": {},
   "outputs": [],
   "source": [
    "#NULL : no significant difference\n",
    "#ALTERNATE : significant difference present\n",
    "\n",
    "branch_a_scores = [4, 5, 3, 4, 5, 4, 5, 3, 4, 4, 5, 4, 4, 3, 4, 5, 5, 4, 3, 4, 5, 4, 3, 5, 4, 4, 5, 3, 4, 5, 4]\n",
    "\n",
    "branch_b_scores = [3, 4, 2, 3, 4, 3, 4, 2, 3, 3, 4, 3, 3, 2, 3, 4, 4, 3, 2, 3, 4, 3, 2, 4, 3, 3, 4, 2, 3, 4, 3]\n",
    "t_stats,pvalue = scipy.stats.ttest_ind(branch_a_scores,branch_b_scores)"
   ]
  },
  {
   "cell_type": "code",
   "execution_count": 78,
   "id": "2464a48b-79ac-447c-9311-0eca1d87ae6f",
   "metadata": {},
   "outputs": [
    {
     "data": {
      "text/plain": [
       "5.480077554195743"
      ]
     },
     "execution_count": 78,
     "metadata": {},
     "output_type": "execute_result"
    }
   ],
   "source": [
    "t_stats"
   ]
  },
  {
   "cell_type": "code",
   "execution_count": 79,
   "id": "a8b81e0c-2b6f-444c-b65f-86dd84ab2802",
   "metadata": {},
   "outputs": [
    {
     "data": {
      "text/plain": [
       "8.895290509945655e-07"
      ]
     },
     "execution_count": 79,
     "metadata": {},
     "output_type": "execute_result"
    }
   ],
   "source": [
    "pvalue"
   ]
  },
  {
   "cell_type": "code",
   "execution_count": null,
   "id": "9885e44e-b3be-404a-8d82-854af31389e8",
   "metadata": {},
   "outputs": [],
   "source": [
    "if pvalue <= 0.05:\n",
    "    print(\"Reject null hypothesis\")\n",
    "else:\n",
    "    print(\"Fails to\")"
   ]
  }
 ],
 "metadata": {
  "kernelspec": {
   "display_name": "Python 3 (ipykernel)",
   "language": "python",
   "name": "python3"
  },
  "language_info": {
   "codemirror_mode": {
    "name": "ipython",
    "version": 3
   },
   "file_extension": ".py",
   "mimetype": "text/x-python",
   "name": "python",
   "nbconvert_exporter": "python",
   "pygments_lexer": "ipython3",
   "version": "3.10.8"
  }
 },
 "nbformat": 4,
 "nbformat_minor": 5
}
