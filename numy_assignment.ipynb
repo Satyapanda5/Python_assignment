{
 "cells": [
  {
   "cell_type": "code",
   "execution_count": 1,
   "id": "ac305287-f50a-46d1-8202-e2d8726ab9bc",
   "metadata": {},
   "outputs": [],
   "source": [
    "import numpy as np\n",
    "import pandas as pd\n",
    "import seaborn as sns"
   ]
  },
  {
   "cell_type": "code",
   "execution_count": 2,
   "id": "dea0a234-1ed7-4fac-967d-e53b73fae5c1",
   "metadata": {},
   "outputs": [],
   "source": [
    "#1.\n",
    "\n",
    "\n",
    "a = [0,1,2,3,4,5]\n",
    "arr = np.array(a)"
   ]
  },
  {
   "cell_type": "code",
   "execution_count": 3,
   "id": "4ae4f61e-e0d1-4921-a27e-0465347c4b5d",
   "metadata": {},
   "outputs": [
    {
     "data": {
      "text/plain": [
       "array([0, 1, 2, 3, 4, 5])"
      ]
     },
     "execution_count": 3,
     "metadata": {},
     "output_type": "execute_result"
    }
   ],
   "source": [
    "arr\n"
   ]
  },
  {
   "cell_type": "code",
   "execution_count": 4,
   "id": "47e0943c-4fc0-478f-8933-872bf37aeb77",
   "metadata": {},
   "outputs": [
    {
     "data": {
      "text/plain": [
       "dtype('int64')"
      ]
     },
     "execution_count": 4,
     "metadata": {},
     "output_type": "execute_result"
    }
   ],
   "source": [
    "arr.dtype"
   ]
  },
  {
   "cell_type": "code",
   "execution_count": 5,
   "id": "49ea1eca-1c13-4849-a12e-dfcf8be4a98d",
   "metadata": {},
   "outputs": [],
   "source": [
    "#2.\n",
    "\n",
    "\n",
    "arr = np.array([1.5, 2.6, 3.7])"
   ]
  },
  {
   "cell_type": "code",
   "execution_count": 6,
   "id": "049e9630-0480-4bd0-8a3d-78093d5e819b",
   "metadata": {},
   "outputs": [
    {
     "data": {
      "text/plain": [
       "dtype('float64')"
      ]
     },
     "execution_count": 6,
     "metadata": {},
     "output_type": "execute_result"
    }
   ],
   "source": [
    "arr.dtype"
   ]
  },
  {
   "cell_type": "code",
   "execution_count": 7,
   "id": "afde77a4-86c9-4135-9aca-0d5d55177b04",
   "metadata": {},
   "outputs": [
    {
     "data": {
      "text/plain": [
       "array([7.+0.j, 6.+0.j, 7.+0.j, 8.+0.j])"
      ]
     },
     "execution_count": 7,
     "metadata": {},
     "output_type": "execute_result"
    }
   ],
   "source": [
    "#3.\n",
    "\n",
    "\n",
    "l = [7,6,7,8,]\n",
    "arr = np.array((l),dtype =np.complex128)\n",
    "arr"
   ]
  },
  {
   "cell_type": "code",
   "execution_count": 8,
   "id": "9b467599-2177-4f24-8df8-fdca94d8944e",
   "metadata": {},
   "outputs": [],
   "source": [
    "#4.\n",
    "\n",
    "\n",
    "arr1 = np.array([1,2,3,4,5],dtype = np.int64)\n",
    "arr2 = np.array((arr1),dtype = np.float32)"
   ]
  },
  {
   "cell_type": "code",
   "execution_count": 9,
   "id": "775ee78e-5f9d-4ee1-95de-09b8c4dac0d8",
   "metadata": {},
   "outputs": [
    {
     "data": {
      "text/plain": [
       "array([1., 2., 3., 4., 5.], dtype=float32)"
      ]
     },
     "execution_count": 9,
     "metadata": {},
     "output_type": "execute_result"
    }
   ],
   "source": [
    "arr2"
   ]
  },
  {
   "cell_type": "code",
   "execution_count": 10,
   "id": "08179a3d-2cd5-4f4c-a46a-cd32235f5c85",
   "metadata": {},
   "outputs": [
    {
     "data": {
      "text/plain": [
       "dtype('float32')"
      ]
     },
     "execution_count": 10,
     "metadata": {},
     "output_type": "execute_result"
    }
   ],
   "source": [
    "arr2.dtype"
   ]
  },
  {
   "cell_type": "code",
   "execution_count": 11,
   "id": "d8cb3d83-885d-4920-b033-5c3cca15589d",
   "metadata": {},
   "outputs": [
    {
     "data": {
      "text/plain": [
       "dtype('int64')"
      ]
     },
     "execution_count": 11,
     "metadata": {},
     "output_type": "execute_result"
    }
   ],
   "source": [
    "arr1.dtype"
   ]
  },
  {
   "cell_type": "code",
   "execution_count": 12,
   "id": "ea34aafb-1416-4a6b-bba6-ad66b2b81b1f",
   "metadata": {},
   "outputs": [],
   "source": [
    "#5.\n",
    "\n",
    "arr = np.array([1,2,3,4,5],dtype = np.float64)"
   ]
  },
  {
   "cell_type": "code",
   "execution_count": 13,
   "id": "aac34299-1247-4243-939c-d7b58878e690",
   "metadata": {},
   "outputs": [
    {
     "data": {
      "text/plain": [
       "array([1., 2., 3., 4., 5.])"
      ]
     },
     "execution_count": 13,
     "metadata": {},
     "output_type": "execute_result"
    }
   ],
   "source": [
    "arr"
   ]
  },
  {
   "cell_type": "code",
   "execution_count": 14,
   "id": "aee9f8fe-7d67-49e6-8c27-168f20e703d8",
   "metadata": {},
   "outputs": [],
   "source": [
    "arr1 = np.array((arr),dtype = np.float32)"
   ]
  },
  {
   "cell_type": "code",
   "execution_count": 15,
   "id": "5ff20215-c780-43e7-a62d-7fe8a7afbe09",
   "metadata": {},
   "outputs": [
    {
     "data": {
      "text/plain": [
       "array([1., 2., 3., 4., 5.], dtype=float32)"
      ]
     },
     "execution_count": 15,
     "metadata": {},
     "output_type": "execute_result"
    }
   ],
   "source": [
    "arr1"
   ]
  },
  {
   "cell_type": "code",
   "execution_count": 16,
   "id": "8e28a049-a52e-4491-ba35-9cc87d2158e6",
   "metadata": {},
   "outputs": [
    {
     "name": "stdin",
     "output_type": "stream",
     "text": [
      "Enter array elements(separated by spaces): 1 2 3\n"
     ]
    },
    {
     "name": "stdout",
     "output_type": "stream",
     "text": [
      "shape: (3,)\n",
      "size: 3\n",
      "dtype: int64\n"
     ]
    }
   ],
   "source": [
    "#6.\n",
    "\n",
    "def array_attributes(arr):\n",
    "    shape = arr.shape\n",
    "    size = arr.size\n",
    "    dtype = arr.dtype\n",
    "    return shape,size,dtype\n",
    "\n",
    "user_input = input(\"Enter array elements(separated by spaces):\").split()\n",
    "elements = [int(x) for x in user_input]\n",
    "array = np.array(elements)\n",
    "shape,size,dtype = array_attributes(array)\n",
    "\n",
    "print('shape:',shape)\n",
    "print('size:',size)\n",
    "print('dtype:',dtype)"
   ]
  },
  {
   "cell_type": "code",
   "execution_count": 17,
   "id": "2462e0bf-6609-422a-bed1-dd87297c7a14",
   "metadata": {},
   "outputs": [
    {
     "name": "stdin",
     "output_type": "stream",
     "text": [
      "Enter array elements(separated by spaces): 1 2 3 4\n"
     ]
    },
    {
     "name": "stdout",
     "output_type": "stream",
     "text": [
      "Dimension: 1\n"
     ]
    }
   ],
   "source": [
    "#7.\n",
    "\n",
    "def array_dimension(arr):\n",
    "    dimension = arr.ndim\n",
    "    return dimension\n",
    "\n",
    "user_input = input(\"Enter array elements(separated by spaces):\").split()\n",
    "elements = [int(x) for x in user_input]\n",
    "array = np.array(elements)\n",
    "dimension = array_dimension(array)\n",
    "print('Dimension:',dimension)"
   ]
  },
  {
   "cell_type": "code",
   "execution_count": 18,
   "id": "148168b4-63f8-402f-a648-f33731ace34d",
   "metadata": {},
   "outputs": [
    {
     "name": "stdin",
     "output_type": "stream",
     "text": [
      "Enter elemets(separated by space): 1 2 3 4 \n"
     ]
    },
    {
     "name": "stdout",
     "output_type": "stream",
     "text": [
      "Item size: 8\n",
      "Total size: 32\n"
     ]
    }
   ],
   "source": [
    "#8.\n",
    "\n",
    "def item_size_info(arr):\n",
    "    item_size = arr.itemsize\n",
    "    total_size = arr.nbytes\n",
    "    return item_size,total_size\n",
    "\n",
    "user = input(\"Enter elemets(separated by space):\").split()\n",
    "elements = [int(x) for x in user]\n",
    "array = np.array(elements)\n",
    "item_size,total_size = item_size_info(array)\n",
    "print('Item size:',item_size)\n",
    "print('Total size:',total_size)"
   ]
  },
  {
   "cell_type": "code",
   "execution_count": 19,
   "id": "de5a3902-6ea9-43a7-8c06-03fe0c0e7739",
   "metadata": {},
   "outputs": [
    {
     "name": "stdin",
     "output_type": "stream",
     "text": [
      "Enter elements(separated by spaces): 12 3 4 5 6 7\n"
     ]
    },
    {
     "name": "stdout",
     "output_type": "stream",
     "text": [
      "Strides: (8,)\n"
     ]
    }
   ],
   "source": [
    "#9.\n",
    "\n",
    "def array_strides(arr):\n",
    "    strides = arr.strides\n",
    "    return strides\n",
    "\n",
    "user1 = input(\"Enter elements(separated by spaces):\").split()\n",
    "elements = [int(x) for x in user1]\n",
    "array = np.array(elements)\n",
    "strides = array_strides(array)\n",
    "print(\"Strides:\",strides)"
   ]
  },
  {
   "cell_type": "code",
   "execution_count": 20,
   "id": "e46846e0-b147-4a34-84d8-eb078d1e9201",
   "metadata": {},
   "outputs": [
    {
     "name": "stdin",
     "output_type": "stream",
     "text": [
      "Enter elements(separated  by spaces): 1 2 3 4 5\n"
     ]
    },
    {
     "name": "stdout",
     "output_type": "stream",
     "text": [
      "shape: (6,)\n",
      "stride: (8,)\n"
     ]
    }
   ],
   "source": [
    "#10.\n",
    "\n",
    "def shape_stride(arr):\n",
    "    shape = arr.shape\n",
    "    stride = arr.strides\n",
    "    return shape,stride\n",
    "\n",
    "user2 = input(\"Enter elements(separated  by spaces):\").split()\n",
    "elements = [int(x) for x in user1]\n",
    "array = np.array(elements)\n",
    "shape,stride = shape_stride(array)\n",
    "print('shape:',shape)\n",
    "print('stride:',stride)"
   ]
  },
  {
   "cell_type": "code",
   "execution_count": 22,
   "id": "80c7ec67-bb32-44f2-a24e-fa45c9496d26",
   "metadata": {},
   "outputs": [
    {
     "name": "stdin",
     "output_type": "stream",
     "text": [
      "enter elements: 12\n"
     ]
    },
    {
     "name": "stdout",
     "output_type": "stream",
     "text": [
      "Array: [0. 0. 0. 0. 0. 0. 0. 0. 0. 0. 0. 0.]\n"
     ]
    }
   ],
   "source": [
    "#11.\n",
    "\n",
    "def zeroes_array(n):\n",
    "    return np.zeros(n)\n",
    "\n",
    "n = int(input(\"enter elements:\"))\n",
    "array = zeroes_array(n)\n",
    "print('Array:',array)"
   ]
  },
  {
   "cell_type": "code",
   "execution_count": 23,
   "id": "122ceb1e-99f0-4080-9b53-5d1eaca95f26",
   "metadata": {},
   "outputs": [
    {
     "name": "stdin",
     "output_type": "stream",
     "text": [
      "enter row: 12\n",
      "enter col: 3\n"
     ]
    },
    {
     "name": "stdout",
     "output_type": "stream",
     "text": [
      "Matrix: [[1. 1. 1.]\n",
      " [1. 1. 1.]\n",
      " [1. 1. 1.]\n",
      " [1. 1. 1.]\n",
      " [1. 1. 1.]\n",
      " [1. 1. 1.]\n",
      " [1. 1. 1.]\n",
      " [1. 1. 1.]\n",
      " [1. 1. 1.]\n",
      " [1. 1. 1.]\n",
      " [1. 1. 1.]\n",
      " [1. 1. 1.]]\n"
     ]
    }
   ],
   "source": [
    "#12.\n",
    "\n",
    "def create_ones_matrix(rows,cols):\n",
    "    return np.ones((rows,cols))\n",
    "\n",
    "rows = int(input(\"enter row:\"))\n",
    "cols = int(input(\"enter col:\"))\n",
    "matrix = create_ones_matrix(rows,cols)\n",
    "print('Matrix:',matrix)"
   ]
  },
  {
   "cell_type": "code",
   "execution_count": 24,
   "id": "a1168349-21ae-4ec2-9b77-207a579c6b9b",
   "metadata": {},
   "outputs": [
    {
     "name": "stdout",
     "output_type": "stream",
     "text": [
      "range array is: [2 3 4 5 6 7 8 9]\n"
     ]
    }
   ],
   "source": [
    "#13.\n",
    "\n",
    "def generate_range_array(start,stop,step):\n",
    "    return np.arange(start,stop,step)\n",
    "\n",
    "array = generate_range_array(2,10,1)\n",
    "print('range array is:',array)"
   ]
  },
  {
   "cell_type": "code",
   "execution_count": 25,
   "id": "67449af7-759d-4ef7-9070-e9ab988fb63a",
   "metadata": {},
   "outputs": [
    {
     "name": "stdout",
     "output_type": "stream",
     "text": [
      "generated array: [12.         12.37078652 12.74157303 13.11235955 13.48314607 13.85393258\n",
      " 14.2247191  14.59550562 14.96629213 15.33707865 15.70786517 16.07865169\n",
      " 16.4494382  16.82022472 17.19101124 17.56179775 17.93258427 18.30337079\n",
      " 18.6741573  19.04494382 19.41573034 19.78651685 20.15730337 20.52808989\n",
      " 20.8988764  21.26966292 21.64044944 22.01123596 22.38202247 22.75280899\n",
      " 23.12359551 23.49438202 23.86516854 24.23595506 24.60674157 24.97752809\n",
      " 25.34831461 25.71910112 26.08988764 26.46067416 26.83146067 27.20224719\n",
      " 27.57303371 27.94382022 28.31460674 28.68539326 29.05617978 29.42696629\n",
      " 29.79775281 30.16853933 30.53932584 30.91011236 31.28089888 31.65168539\n",
      " 32.02247191 32.39325843 32.76404494 33.13483146 33.50561798 33.87640449\n",
      " 34.24719101 34.61797753 34.98876404 35.35955056 35.73033708 36.1011236\n",
      " 36.47191011 36.84269663 37.21348315 37.58426966 37.95505618 38.3258427\n",
      " 38.69662921 39.06741573 39.43820225 39.80898876 40.17977528 40.5505618\n",
      " 40.92134831 41.29213483 41.66292135 42.03370787 42.40449438 42.7752809\n",
      " 43.14606742 43.51685393 43.88764045 44.25842697 44.62921348 45.        ]\n"
     ]
    }
   ],
   "source": [
    "#14.\n",
    "\n",
    "def generated_lin_space(start, stop, num):\n",
    "    return np.linspace(start, stop, num)\n",
    "\n",
    "array = generated_lin_space(12,45,90)\n",
    "print(\"generated array:\",array)"
   ]
  },
  {
   "cell_type": "code",
   "execution_count": 27,
   "id": "67ec06cf-b6e1-4aae-8bd2-518805df3e4d",
   "metadata": {},
   "outputs": [
    {
     "name": "stdin",
     "output_type": "stream",
     "text": [
      "enter size of matrix: 12\n"
     ]
    },
    {
     "name": "stdout",
     "output_type": "stream",
     "text": [
      "identity matrix: [[1. 0. 0. 0. 0. 0. 0. 0. 0. 0. 0. 0.]\n",
      " [0. 1. 0. 0. 0. 0. 0. 0. 0. 0. 0. 0.]\n",
      " [0. 0. 1. 0. 0. 0. 0. 0. 0. 0. 0. 0.]\n",
      " [0. 0. 0. 1. 0. 0. 0. 0. 0. 0. 0. 0.]\n",
      " [0. 0. 0. 0. 1. 0. 0. 0. 0. 0. 0. 0.]\n",
      " [0. 0. 0. 0. 0. 1. 0. 0. 0. 0. 0. 0.]\n",
      " [0. 0. 0. 0. 0. 0. 1. 0. 0. 0. 0. 0.]\n",
      " [0. 0. 0. 0. 0. 0. 0. 1. 0. 0. 0. 0.]\n",
      " [0. 0. 0. 0. 0. 0. 0. 0. 1. 0. 0. 0.]\n",
      " [0. 0. 0. 0. 0. 0. 0. 0. 0. 1. 0. 0.]\n",
      " [0. 0. 0. 0. 0. 0. 0. 0. 0. 0. 1. 0.]\n",
      " [0. 0. 0. 0. 0. 0. 0. 0. 0. 0. 0. 1.]]\n"
     ]
    }
   ],
   "source": [
    "#15.\n",
    "\n",
    "def create_identity_matrix(n):\n",
    "    return np.eye(n)\n",
    "\n",
    "n = int(input(\"enter size of matrix:\"))\n",
    "matrix = create_identity_matrix(n)\n",
    "\n",
    "print('identity matrix:',matrix)"
   ]
  },
  {
   "cell_type": "code",
   "execution_count": 28,
   "id": "f7861cef-7396-4671-a56d-b8fe9cfb5136",
   "metadata": {},
   "outputs": [
    {
     "name": "stdout",
     "output_type": "stream",
     "text": [
      "value: [1 2 3 4 5]\n"
     ]
    }
   ],
   "source": [
    "#16.\n",
    "\n",
    "def list_array(lis):\n",
    "    return np.asarray(lis)\n",
    "lis = [1,2,3,4,5]\n",
    "arr = list_array(lis)\n",
    "print('value:',arr)"
   ]
  },
  {
   "cell_type": "code",
   "execution_count": 29,
   "id": "7b39de57-74e9-417a-addc-e757cb395caa",
   "metadata": {},
   "outputs": [
    {
     "data": {
      "text/plain": [
       "dtype('int64')"
      ]
     },
     "execution_count": 29,
     "metadata": {},
     "output_type": "execute_result"
    }
   ],
   "source": [
    "arr.dtype"
   ]
  },
  {
   "cell_type": "code",
   "execution_count": 30,
   "id": "a97c254a-3c4d-404e-9ce5-954232bea3d3",
   "metadata": {},
   "outputs": [
    {
     "data": {
      "text/plain": [
       "array([1, 2, 3, 4, 5])"
      ]
     },
     "execution_count": 30,
     "metadata": {},
     "output_type": "execute_result"
    }
   ],
   "source": [
    "#17.\n",
    "\n",
    "arr1 = np.array([1,2,3,4,5])\n",
    "arr2 = arr1.view()\n",
    "arr2"
   ]
  },
  {
   "cell_type": "code",
   "execution_count": 31,
   "id": "f54f77f3-78cf-4cf8-898a-542c485f3f37",
   "metadata": {},
   "outputs": [],
   "source": [
    "arr2[0] = 20"
   ]
  },
  {
   "cell_type": "code",
   "execution_count": 32,
   "id": "d5f04e8c-b99f-4bb4-b408-e9b24b55b8a0",
   "metadata": {},
   "outputs": [
    {
     "name": "stdout",
     "output_type": "stream",
     "text": [
      "modified arr1: [20  2  3  4  5]\n",
      "modified arr2: [20  2  3  4  5]\n"
     ]
    }
   ],
   "source": [
    "print('modified arr1:',arr1)\n",
    "print('modified arr2:',arr2)"
   ]
  },
  {
   "cell_type": "code",
   "execution_count": 33,
   "id": "dc2ee06d-8647-47d1-9be0-9303b3880d96",
   "metadata": {},
   "outputs": [
    {
     "name": "stdout",
     "output_type": "stream",
     "text": [
      "s: [[1 2 3]\n",
      " [4 4 5]\n",
      " [4 5 6]\n",
      " [7 8 9]\n",
      " [4 6 8]\n",
      " [1 3 5]]\n"
     ]
    }
   ],
   "source": [
    "#18.\n",
    "\n",
    "def concatenated_arrays(arr1,arr2,axis=0):\n",
    "    return np.concatenate((arr1,arr2),axis=axis)\n",
    "\n",
    "arr1 = np.array([[1,2,3],[4,4,5],[4,5,6]])\n",
    "arr2 = np.array([[7,8,9],[4,6,8],[1,3,5]])\n",
    "s = concatenated_arrays(arr1,arr2,axis=0)\n",
    "print(\"s:\",s)    "
   ]
  },
  {
   "cell_type": "code",
   "execution_count": null,
   "id": "80660fae-aeb8-47f1-bc58-9e3f65518165",
   "metadata": {},
   "outputs": [],
   "source": [
    "#19.\n",
    "\n",
    "arr1 = np.array([[1,2],[3,4]])\n",
    "arr2 = np.array([7,8])\n",
    "arr3 = np.concatenate((arr1,arr2.reshape(1,2)),axis =1)\n",
    "print(arr3)"
   ]
  },
  {
   "cell_type": "code",
   "execution_count": null,
   "id": "22ef2056-1747-491d-b29c-edd0bf6875fe",
   "metadata": {},
   "outputs": [],
   "source": []
  }
 ],
 "metadata": {
  "kernelspec": {
   "display_name": "Python 3 (ipykernel)",
   "language": "python",
   "name": "python3"
  },
  "language_info": {
   "codemirror_mode": {
    "name": "ipython",
    "version": 3
   },
   "file_extension": ".py",
   "mimetype": "text/x-python",
   "name": "python",
   "nbconvert_exporter": "python",
   "pygments_lexer": "ipython3",
   "version": "3.10.8"
  }
 },
 "nbformat": 4,
 "nbformat_minor": 5
}
